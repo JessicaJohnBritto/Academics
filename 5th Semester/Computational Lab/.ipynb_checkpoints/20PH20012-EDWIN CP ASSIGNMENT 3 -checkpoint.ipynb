{
 "cells": [
  {
   "cell_type": "code",
   "execution_count": 1,
   "id": "18c848b8",
   "metadata": {},
   "outputs": [],
   "source": [
    "import numpy as np\n",
    "import matplotlib.pyplot as plt\n",
    "\n"
   ]
  },
  {
   "cell_type": "code",
   "execution_count": 2,
   "id": "a5bb9bb4",
   "metadata": {},
   "outputs": [
    {
     "name": "stdout",
     "output_type": "stream",
     "text": [
      "0.06242222222222221\n"
     ]
    },
    {
     "data": {
      "text/plain": [
       "[<matplotlib.lines.Line2D at 0x21fd613e8e0>]"
      ]
     },
     "execution_count": 2,
     "metadata": {},
     "output_type": "execute_result"
    },
    {
     "data": {
      "image/png": "[encoded data removed]",
      "text/plain": [
       "<Figure size 432x288 with 1 Axes>"
      ]
     },
     "metadata": {
      "needs_background": "light"
     },
     "output_type": "display_data"
    }
   ],
   "source": [
    "#newton ralphson method\n",
    "\n",
    "a=1\n",
    "b=-.165\n",
    "c=3.993e-4\n",
    "\n",
    "def f (x):\n",
    "    return a*x**3+b*x**2+c\n",
    "def f1(x):\n",
    "    return 3*a*x**2+2*b*x**1\n",
    "    \n",
    "tol=1e-4\n",
    "x=.05\n",
    "\n",
    "while abs(f(x))>tol :\n",
    "    x=x-f(x)/f1(x)\n",
    "    \n",
    "print(x)\n",
    "\n",
    "m=np.arange(-50,50)    \n",
    "plt.plot(m,f(m))\n",
    "plt.plot(m,m*0+x)\n"
   ]
  },
  {
   "cell_type": "code",
   "execution_count": 3,
   "id": "1d0be40c",
   "metadata": {},
   "outputs": [
    {
     "name": "stdout",
     "output_type": "stream",
     "text": [
      "0.0\n"
     ]
    },
    {
     "ename": "ZeroDivisionError",
     "evalue": "float division by zero",
     "output_type": "error",
     "traceback": [
      "\u001b[1;31m---------------------------------------------------------------------------\u001b[0m",
      "\u001b[1;31mZeroDivisionError\u001b[0m                         Traceback (most recent call last)",
      "Input \u001b[1;32mIn [3]\u001b[0m, in \u001b[0;36m<cell line: 15>\u001b[1;34m()\u001b[0m\n\u001b[0;32m     13\u001b[0m \u001b[38;5;28mprint\u001b[39m(f1(x))\n\u001b[0;32m     15\u001b[0m \u001b[38;5;28;01mwhile\u001b[39;00m \u001b[38;5;28mabs\u001b[39m(f(x))\u001b[38;5;241m>\u001b[39mtol :\n\u001b[1;32m---> 16\u001b[0m     x\u001b[38;5;241m=\u001b[39mx\u001b[38;5;241m-\u001b[39m\u001b[43mf\u001b[49m\u001b[43m(\u001b[49m\u001b[43mx\u001b[49m\u001b[43m)\u001b[49m\u001b[38;5;241;43m/\u001b[39;49m\u001b[43mf1\u001b[49m\u001b[43m(\u001b[49m\u001b[43mx\u001b[49m\u001b[43m)\u001b[49m\n\u001b[0;32m     18\u001b[0m \u001b[38;5;28mprint\u001b[39m(x)\n\u001b[0;32m     20\u001b[0m m\u001b[38;5;241m=\u001b[39mnp\u001b[38;5;241m.\u001b[39marange(\u001b[38;5;241m-\u001b[39m\u001b[38;5;241m50\u001b[39m,\u001b[38;5;241m50\u001b[39m)    \n",
      "\u001b[1;31mZeroDivisionError\u001b[0m: float division by zero"
     ]
    }
   ],
   "source": [
    "a=1\n",
    "b=-.165\n",
    "c=3.993e-4\n",
    "\n",
    "def f (x):\n",
    "    return a*x**3+b*x**2+c\n",
    "def f1(x):\n",
    "    return 3*a*x**2+2*b*x**1\n",
    "    \n",
    "tol=1e-15\n",
    "x=.11\n",
    "\n",
    "print(f1(x))\n",
    "\n",
    "while abs(f(x))>tol :\n",
    "    x=x-f(x)/f1(x)\n",
    "    \n",
    "print(x)\n",
    "\n",
    "m=np.arange(-50,50)    \n",
    "plt.plot(m,f(m))\n",
    "plt.plot(m,m*0+x)\n",
    "\n",
    "\n",
    "\n"
   ]
  },
  {
   "cell_type": "code",
   "execution_count": 4,
   "id": "3057cf59",
   "metadata": {},
   "outputs": [
    {
     "name": "stdout",
     "output_type": "stream",
     "text": [
      "0.06237758151374945\n"
     ]
    },
    {
     "data": {
      "text/plain": [
       "[<matplotlib.lines.Line2D at 0x21fd8358130>]"
      ]
     },
     "execution_count": 4,
     "metadata": {},
     "output_type": "execute_result"
    },
    {
     "data": {
      "image/png": "[encoded data removed]",
      "text/plain": [
       "<Figure size 432x288 with 1 Axes>"
      ]
     },
     "metadata": {
      "needs_background": "light"
     },
     "output_type": "display_data"
    }
   ],
   "source": [
    "#convergence\n",
    "a=1\n",
    "b=-.165\n",
    "c=3.993e-4\n",
    "\n",
    "def f (x):\n",
    "    return a*x**3+b*x**2+c\n",
    "def f1(x):\n",
    "    return 3*a*x**2+2*b*x**1\n",
    "    \n",
    "e=1\n",
    "n=1\n",
    "x=.05\n",
    "N=[]\n",
    "E=[]\n",
    "for l in range(15):\n",
    "    e=0.1*e\n",
    "    while ( abs(f(x))>e) :\n",
    "\n",
    "        n=n+1\n",
    "        x=x-f(x)/f1(x)\n",
    "    N.append(n)\n",
    "    E.append(e)\n",
    "print(x)\n",
    "\n",
    "   \n",
    "plt.plot(E,N)\n",
    "\n",
    "\n",
    "\n"
   ]
  },
  {
   "cell_type": "code",
   "execution_count": 7,
   "id": "3354f883",
   "metadata": {},
   "outputs": [
    {
     "name": "stdout",
     "output_type": "stream",
     "text": [
      "[0.15000000000000002, 0.1875, 0.19921875, 0.1999969482421875, 0.19999999995343387, 0.2, 0.2, 0.2, 0.2, 0.2, 0.2, 0.2, 0.2, 0.2, 0.2, 0.2, 0.2, 0.2, 0.2, 0.2, 0.2, 0.2, 0.2, 0.2, 0.2, 0.2, 0.2, 0.2, 0.2, 0.2, 0.2, 0.2, 0.2, 0.2, 0.2, 0.2, 0.2, 0.2, 0.2, 0.2, 0.2, 0.2, 0.2, 0.2, 0.2, 0.2, 0.2, 0.2, 0.2, 0.2] [1.666666666666666, 0.33333333333333304, 0.019607843137254832, 7.629510948348184e-05, 1.1641532182693481e-09, 0.0, 0.0, 0.0, 0.0, 0.0, 0.0, 0.0, 0.0, 0.0, 0.0, 0.0, 0.0, 0.0, 0.0, 0.0, 0.0, 0.0, 0.0, 0.0, 0.0, 0.0, 0.0, 0.0, 0.0, 0.0, 0.0, 0.0, 0.0, 0.0, 0.0, 0.0, 0.0, 0.0, 0.0, 0.0, 0.0, 0.0, 0.0, 0.0, 0.0, 0.0, 0.0, 0.0, 0.0, 0.0]\n"
     ]
    },
    {
     "data": {
      "text/plain": [
       "[<matplotlib.lines.Line2D at 0x13ed46b9c00>]"
      ]
     },
     "execution_count": 7,
     "metadata": {},
     "output_type": "execute_result"
    },
    {
     "data": {
      "image/png": "[encoded data removed]",
      "text/plain": [
       "<Figure size 432x288 with 1 Axes>"
      ]
     },
     "metadata": {
      "needs_background": "light"
     },
     "output_type": "display_data"
    }
   ],
   "source": [
    "# newton raphson reciprocal\n",
    "#\n",
    "\n",
    "\n",
    "a=5\n",
    "x=0.1\n",
    "\n",
    "xli=[]\n",
    "yli=[]\n",
    "it=[]\n",
    "fa=[]\n",
    "err=[]\n",
    "def f(x):\n",
    "    return 1/x-a\n",
    "def fd(x):\n",
    "    return -1/(x**2)\n",
    "\n",
    "for i in range(50):\n",
    "    x= x-f(x)/fd(x)\n",
    "    \n",
    "    xli.append(x)\n",
    "    yli.append(f(x))\n",
    "    it.append(i)\n",
    "    fa.append(1/a)\n",
    "    err.append(x-1/a)\n",
    "    \n",
    "print(xli,yli)\n",
    "\n",
    "\n",
    "plt.plot(it,yli)\n",
    "plt.plot(it,fa)\n",
    "plt.plot(it,xli)"
   ]
  },
  {
   "cell_type": "code",
   "execution_count": 8,
   "id": "a30d0bfe",
   "metadata": {},
   "outputs": [
    {
     "name": "stdout",
     "output_type": "stream",
     "text": [
      "[-0.04999999999999999, -0.012500000000000011, -0.0007812500000000111, -3.0517578125111022e-06, -4.656613983300417e-11, 0.0, 0.0, 0.0, 0.0, 0.0, 0.0, 0.0, 0.0, 0.0, 0.0, 0.0, 0.0, 0.0, 0.0, 0.0, 0.0, 0.0, 0.0, 0.0, 0.0, 0.0, 0.0, 0.0, 0.0, 0.0, 0.0, 0.0, 0.0, 0.0, 0.0, 0.0, 0.0, 0.0, 0.0, 0.0, 0.0, 0.0, 0.0, 0.0, 0.0, 0.0, 0.0, 0.0, 0.0, 0.0]\n"
     ]
    },
    {
     "data": {
      "text/plain": [
       "[<matplotlib.lines.Line2D at 0x13ed4710070>]"
      ]
     },
     "execution_count": 8,
     "metadata": {},
     "output_type": "execute_result"
    },
    {
     "data": {
      "image/png": "[encoded data removed]",
      "text/plain": [
       "<Figure size 432x288 with 1 Axes>"
      ]
     },
     "metadata": {
      "needs_background": "light"
     },
     "output_type": "display_data"
    }
   ],
   "source": [
    "\n",
    "print(err)\n",
    "plt.plot(it,err)"
   ]
  },
  {
   "cell_type": "code",
   "execution_count": 9,
   "id": "1003279d",
   "metadata": {},
   "outputs": [
    {
     "name": "stdout",
     "output_type": "stream",
     "text": [
      "[[-6  2  1  2  1]\n",
      " [ 3  8 -4  1  0]\n",
      " [-1  1  4 10  1]\n",
      " [ 3 -4  1  9  2]\n",
      " [ 2  0  1  3 10]]\n",
      "[[18  3  6 -3]\n",
      " [ 9 13 -5  2]\n",
      " [-3 -2  4  9]\n",
      " [ 6  0 11  3]]\n",
      "-6\n",
      "3\n",
      "-1\n",
      "3\n",
      "2\n"
     ]
    }
   ],
   "source": [
    "# diagonaly dominant matrix or not\n",
    "\n",
    "\n",
    "a=[[-6 ,2, 1, 2,1],\n",
    "[3, 8, -4, 1, 0],\n",
    "[-1, 1, 4, 10, 1],\n",
    "[3, -4, 1,9 ,2],\n",
    "[2 ,0 ,1 ,3 ,10]]\n",
    "\n",
    "b=[[18,3, 6, -3],\n",
    "[9 ,13 ,-5 ,2],\n",
    "[-3 ,-2, 4, 9],\n",
    "[6 ,0 ,11 ,3]]\n",
    "\n",
    "print(np.matrix(a))\n",
    "print(np.matrix(b))\n",
    "\n",
    "print(a[0][0])\n",
    "print(a[1][0])\n",
    "print(a[2][0])\n",
    "print(a[3][0])\n",
    "print(a[4][0])\n",
    "\n"
   ]
  },
  {
   "cell_type": "code",
   "execution_count": 10,
   "id": "2f88a175",
   "metadata": {},
   "outputs": [
    {
     "name": "stdout",
     "output_type": "stream",
     "text": [
      "6 6\n",
      "0  is row fixed\n",
      "8 8\n",
      "1  is row fixed\n",
      "4 13\n",
      "2 not  is row fixed\n",
      "9 10\n",
      "3 not  is row fixed\n",
      "10 6\n",
      "4  is row fixed\n",
      "A is not diagonally dominant\n"
     ]
    }
   ],
   "source": [
    "s=0\n",
    "k=0\n",
    "\n",
    "l=a\n",
    "rc=5\n",
    "\n",
    "for y in range(rc):\n",
    "    i=y\n",
    "    for j in range(rc): #a[i][j] operates on rows\n",
    "        s=s+abs(l[i][j])\n",
    "        if(i==j):\n",
    "            c=i\n",
    "    print(abs(l[c][c]),s-abs(l[c][c]))      \n",
    "    if(abs(l[c][c])>= s-abs(l[c][c])):\n",
    "        print( i ,\" is row fixed\")\n",
    "    else:\n",
    "        print( i ,\"not  is row fixed\")\n",
    "        k=k+1\n",
    "    s=0     \n",
    "\n",
    "    \n",
    "    \n",
    "if(k != 0):\n",
    "    print(\"A is not diagonally dominant\")\n",
    "if(k==0):   \n",
    "    print(\"A is diagonally dominant\")  \n",
    "        "
   ]
  },
  {
   "cell_type": "code",
   "execution_count": 11,
   "id": "aa033282",
   "metadata": {},
   "outputs": [
    {
     "name": "stdout",
     "output_type": "stream",
     "text": [
      "18 12\n",
      "0  is row fixed\n",
      "13 16\n",
      "1 not  is row fixed\n",
      "4 14\n",
      "2 not  is row fixed\n",
      "3 17\n",
      "3 not  is row fixed\n",
      "A is not diagonally dominant\n"
     ]
    }
   ],
   "source": [
    "s=0\n",
    "k=0\n",
    "\n",
    "l=b\n",
    "rc=4\n",
    "\n",
    "for i in range(rc):\n",
    "    for j in range(rc): #a[i][j] operates on rows\n",
    "        s=s+abs(l[i][j])\n",
    "        if(i==j):\n",
    "            c=i\n",
    "    print(abs(l[c][c]),s-abs(l[c][c]))      \n",
    "    if(abs(l[c][c])>= s-abs(l[c][c])):\n",
    "        print( i ,\" is row fixed\")\n",
    "    else:\n",
    "        print( i ,\"not  is row fixed\")\n",
    "        k=k+1\n",
    "    s=0     \n",
    "\n",
    "    \n",
    "    \n",
    "if(k != 0):\n",
    "    print(\"A is not diagonally dominant\")\n",
    "if(k==0):   \n",
    "    print(\"A is diagonally dominant\")  \n",
    "             \n"
   ]
  },
  {
   "cell_type": "code",
   "execution_count": null,
   "id": "b59cac52",
   "metadata": {},
   "outputs": [],
   "source": []
  }
 ],
 "metadata": {
  "kernelspec": {
   "display_name": "Python 3 (ipykernel)",
   "language": "python",
   "name": "python3"
  },
  "language_info": {
   "codemirror_mode": {
    "name": "ipython",
    "version": 3
   },
   "file_extension": ".py",
   "mimetype": "text/x-python",
   "name": "python",
   "nbconvert_exporter": "python",
   "pygments_lexer": "ipython3",
   "version": "3.9.12"
  },
  "vscode": {
   "interpreter": {
    "hash": "a467af0f9d6e59a277b59db842775be42f3287e562ceec658c561106712834c8"
   }
  }
 },
 "nbformat": 4,
 "nbformat_minor": 5
}
