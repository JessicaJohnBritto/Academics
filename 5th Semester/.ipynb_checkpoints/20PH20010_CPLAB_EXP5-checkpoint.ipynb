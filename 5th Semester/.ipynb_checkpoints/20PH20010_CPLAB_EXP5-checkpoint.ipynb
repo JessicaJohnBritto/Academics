{
 "cells": [
  {
   "cell_type": "code",
   "execution_count": 1,
   "id": "b03ec0d1",
   "metadata": {},
   "outputs": [],
   "source": [
    "import numpy as np\n",
    "import matplotlib.pyplot as plt"
   ]
  },
  {
   "cell_type": "code",
   "execution_count": 2,
   "id": "9c58d51b",
   "metadata": {},
   "outputs": [
    {
     "name": "stdout",
     "output_type": "stream",
     "text": [
      "14.592500000000005\n"
     ]
    }
   ],
   "source": [
    "x = [1.34, 1.46, 1.52, 1.6, 1.87, 2.03, 2.18, 2.8, 3.2, 3.8, 4.15]\n",
    "f = [1.5, 2.3, 2.3, 2.4, 2.5, 3.2, 4.9, 4.7, 3.4, 7.8, 17.1]\n",
    "\n",
    "l = len(f)\n",
    "A = 0\n",
    "\n",
    "for i in range(l-1):\n",
    "    A = A + (f[i+1]+f[i])*(x[i+1]-x[i])/2;\n",
    "    \n",
    "print(A)"
   ]
  },
  {
   "cell_type": "code",
   "execution_count": 3,
   "id": "d15e10ad",
   "metadata": {},
   "outputs": [
    {
     "data": {
      "text/plain": [
       "7.189457788698959e-18"
      ]
     },
     "execution_count": 3,
     "metadata": {},
     "output_type": "execute_result"
    }
   ],
   "source": [
    "def y(x):\n",
    "    return (np.sin(x))\n",
    "\n",
    "def trap(f,a,b,N):\n",
    "    \n",
    "    A = 0\n",
    "    \n",
    "    for i in range(N):\n",
    "        A = A + f(a + (b-a)*i/N)\n",
    "        \n",
    "    A = A + (f(b) - f(a))/2\n",
    "    A = A * (b-a)/N\n",
    "\n",
    "    return(A)\n",
    "\n",
    "trap(y,-np.pi,np.pi,10)"
   ]
  },
  {
   "cell_type": "code",
   "execution_count": 4,
   "id": "447c14b6",
   "metadata": {},
   "outputs": [
    {
     "data": {
      "text/plain": [
       "9.585943718265279e-18"
      ]
     },
     "execution_count": 4,
     "metadata": {},
     "output_type": "execute_result"
    }
   ],
   "source": [
    "def y(x):\n",
    "    return (np.sin(x))\n",
    "\n",
    "def simp(f,a,b,N):\n",
    "    \n",
    "    A = 0\n",
    "    \n",
    "    for i in range(N):\n",
    "        if i%2 == 0:\n",
    "            A = A + 2*f(a + (b-a)*i/N)\n",
    "        else:\n",
    "            A = A + 4*f(a + (b-a)*i/N)\n",
    "    \n",
    "    A = A + f(b)- 3*f(a)\n",
    "    A = A*(b-a)/(3*N)\n",
    "    \n",
    "    return(A)\n",
    "\n",
    "simp(y,-np.pi,np.pi,10)"
   ]
  },
  {
   "cell_type": "code",
   "execution_count": 5,
   "id": "15b300cf",
   "metadata": {},
   "outputs": [
    {
     "name": "stdout",
     "output_type": "stream",
     "text": [
      "1.0\n",
      "0.75\n",
      "0.6875\n",
      "0.671875\n",
      "0.66796875\n",
      "0.6669921875\n",
      "0.666748046875\n",
      "0.66668701171875\n",
      "0.6666717529296875\n",
      "0.6666679382324219\n"
     ]
    },
    {
     "data": {
      "text/plain": [
       "[<matplotlib.lines.Line2D at 0x2907c450d30>]"
      ]
     },
     "execution_count": 5,
     "metadata": {},
     "output_type": "execute_result"
    },
    {
     "data": {
      "image/png": "[encoded data removed]",
      "text/plain": [
       "<Figure size 432x288 with 1 Axes>"
      ]
     },
     "metadata": {
      "needs_background": "light"
     },
     "output_type": "display_data"
    }
   ],
   "source": [
    "def y(x):\n",
    "    return (x**2)\n",
    "\n",
    "def trap(f,a,b,N):\n",
    "    \n",
    "    A = 0\n",
    "    \n",
    "    for i in range(N):\n",
    "        A = A + f(a + (b-a)*i/N)\n",
    "        \n",
    "    A = A + (f(b) - f(a))/2\n",
    "    A = A * (b-a)/N\n",
    "\n",
    "    return(A)\n",
    "\n",
    "e=np.zeros(10)\n",
    "for i in range(10):\n",
    "    A_c = trap(y,-1,1,2**(i+1))\n",
    "    print(A_c)\n",
    "    A_t = 2/3;\n",
    "    e[i] = abs(A_t - A_c)/A_t\n",
    "    \n",
    "plt.loglog(e)"
   ]
  },
  {
   "cell_type": "code",
   "execution_count": 6,
   "id": "234f28ed",
   "metadata": {},
   "outputs": [
    {
     "name": "stdout",
     "output_type": "stream",
     "text": [
      "0.0\n",
      "0.3333333333333333\n",
      "0.5\n",
      "0.5833333333333334\n",
      "0.625\n",
      "0.6458333333333334\n",
      "0.65625\n",
      "0.6614583333333334\n",
      "0.6640625\n",
      "0.6653645833333334\n"
     ]
    },
    {
     "data": {
      "text/plain": [
       "[<matplotlib.lines.Line2D at 0x2907c780c70>]"
      ]
     },
     "execution_count": 6,
     "metadata": {},
     "output_type": "execute_result"
    },
    {
     "data": {
      "image/png": "[encoded data removed]",
      "text/plain": [
       "<Figure size 432x288 with 1 Axes>"
      ]
     },
     "metadata": {
      "needs_background": "light"
     },
     "output_type": "display_data"
    }
   ],
   "source": [
    "def y(x):\n",
    "    return (x**2)\n",
    "\n",
    "def simp(f,a,b,N):\n",
    "    \n",
    "    A = 0\n",
    "    \n",
    "    for i in range(N):\n",
    "        if i%2 == 0:\n",
    "            A = A + 2*f(a + (b-a)*i/N)\n",
    "        else:\n",
    "            A = A + 4*f(a + (b-a)*i/N)\n",
    "    \n",
    "    A = A + f(b)- 3*f(a)\n",
    "    A = A*(b-a)/(3*N)\n",
    "    \n",
    "    return(A)\n",
    "\n",
    "e=np.zeros(10)\n",
    "for i in range(10):\n",
    "    A_c = simp(y,-1,1,2**(i+1))\n",
    "    print(A_c)\n",
    "    A_t = 2/3;\n",
    "    e[i] = abs(A_t - A_c)/A_t\n",
    "    \n",
    "plt.loglog(e)"
   ]
  },
  {
   "cell_type": "code",
   "execution_count": 7,
   "id": "bb4bad3a",
   "metadata": {},
   "outputs": [
    {
     "data": {
      "image/png": "[encoded data removed]",
      "text/plain": [
       "<Figure size 432x288 with 1 Axes>"
      ]
     },
     "metadata": {
      "needs_background": "light"
     },
     "output_type": "display_data"
    }
   ],
   "source": [
    "def f(x):\n",
    "    return(1/(1-x**2)**(0.5))\n",
    "\n",
    "def simp(f,a,b,N):\n",
    "    \n",
    "    A = 0\n",
    "    \n",
    "    for i in range(N):\n",
    "        if i%2 == 0:\n",
    "            A = A + 2*f(a + (b-a)*i/N)\n",
    "        else:\n",
    "            A = A + 4*f(a + (b-a)*i/N)\n",
    "    \n",
    "    A = A + f(b)- 3*f(a)\n",
    "    A = A*(b-a)/(3*N)\n",
    "    \n",
    "    return(A)\n",
    "\n",
    "def T(w, m, e):\n",
    "    return(simp(f,0,1-e,1000)/w)\n",
    "\n",
    "e=np.zeros(10)\n",
    "t=np.zeros(10)\n",
    "\n",
    "l = len(e)\n",
    "for i in range(l):\n",
    "    e[i] = 1/10**(i+1)\n",
    "    t[i]=T(2*np.pi,1,e[i])\n",
    "    \n",
    "plt.plot(e,t)\n",
    "plt.xscale('log')"
   ]
  },
  {
   "cell_type": "code",
   "execution_count": 8,
   "id": "f818a82f",
   "metadata": {},
   "outputs": [
    {
     "data": {
      "text/plain": [
       "0.25046945118547076"
      ]
     },
     "execution_count": 8,
     "metadata": {},
     "output_type": "execute_result"
    }
   ],
   "source": [
    "def f(x):\n",
    "    return(1/(1-x**2)**(0.5))\n",
    "\n",
    "def simp(f,a,b,N):\n",
    "    \n",
    "    A = 0\n",
    "    \n",
    "    for i in range(N):\n",
    "        if i%2 == 0:\n",
    "            A = A + 2*f(a + (b-a)*i/N)\n",
    "        else:\n",
    "            A = A + 4*f(a + (b-a)*i/N)\n",
    "    \n",
    "    A = A + f(b)- 3*f(a)\n",
    "    A = A*(b-a)/(3*N)\n",
    "    \n",
    "    return(A)\n",
    "\n",
    "def T(w, m, e):\n",
    "    return(simp(f,0,1-e,1000)/w)\n",
    "\n",
    "T(2*np.pi, 1, 0.00005)"
   ]
  },
  {
   "cell_type": "code",
   "execution_count": null,
   "id": "7b561b4a",
   "metadata": {},
   "outputs": [],
   "source": []
  }
 ],
 "metadata": {
  "kernelspec": {
   "display_name": "Python 3 (ipykernel)",
   "language": "python",
   "name": "python3"
  },
  "language_info": {
   "codemirror_mode": {
    "name": "ipython",
    "version": 3
   },
   "file_extension": ".py",
   "mimetype": "text/x-python",
   "name": "python",
   "nbconvert_exporter": "python",
   "pygments_lexer": "ipython3",
   "version": "3.9.12"
  }
 },
 "nbformat": 4,
 "nbformat_minor": 5
}
