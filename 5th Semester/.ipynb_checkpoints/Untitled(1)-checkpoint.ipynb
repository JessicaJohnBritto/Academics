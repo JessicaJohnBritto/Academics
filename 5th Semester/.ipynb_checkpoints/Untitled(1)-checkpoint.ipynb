{
 "cells": [
  {
   "cell_type": "markdown",
   "id": "2f4efbe0",
   "metadata": {},
   "source": [
    "# Name - Rajas Surlikar\n",
    "# Roll no - 20PH20034"
   ]
  },
  {
   "cell_type": "markdown",
   "id": "867d166b",
   "metadata": {},
   "source": [
    "## Computational Physics Lab - 5"
   ]
  },
  {
   "cell_type": "code",
   "execution_count": 1,
   "id": "90a0e8d5",
   "metadata": {},
   "outputs": [],
   "source": [
    "import numpy as np\n",
    "import matplotlib.pyplot as plt"
   ]
  },
  {
   "cell_type": "markdown",
   "id": "bedc051c",
   "metadata": {},
   "source": [
    "### Numerical Integration 1:"
   ]
  },
  {
   "cell_type": "code",
   "execution_count": 2,
   "id": "8b808c35",
   "metadata": {},
   "outputs": [],
   "source": [
    "def trapezoidal(x, f_x):\n",
    "    \n",
    "    n = x.shape[0]\n",
    "    area = 0\n",
    "    \n",
    "    for i in range(n-1):\n",
    "        area += ((x[i+1]-x[i])/2)*(f_x[i]+f_x[i+1])\n",
    "    \n",
    "    return area"
   ]
  },
  {
   "cell_type": "code",
   "execution_count": 3,
   "id": "145d4941",
   "metadata": {},
   "outputs": [
    {
     "data": {
      "image/png": "[encoded data removed]",
      "text/plain": [
       "<Figure size 432x288 with 1 Axes>"
      ]
     },
     "metadata": {
      "needs_background": "light"
     },
     "output_type": "display_data"
    },
    {
     "name": "stdout",
     "output_type": "stream",
     "text": [
      "\n",
      "\n",
      "\n",
      "Hence, the area obtained by numerical integration =  14.592500000000005\n"
     ]
    }
   ],
   "source": [
    "x = np.array([1.34, 1.46, 1.52, 1.60, 1.87, 2.03, 2.18, 2.80, 3.20, 3.8, 4.15])\n",
    "f_x = np.array([1.50, 2.30, 2.3, 2.4, 2.5, 3.2, 4.9, 4.7, 3.4, 7.8, 17.1])\n",
    "\n",
    "plt.plot(x, f_x)\n",
    "plt.scatter(x, f_x)\n",
    "plt.grid()\n",
    "plt.show()\n",
    "print(\"\\n\\n\")\n",
    "\n",
    "area = trapezoidal(x, f_x)\n",
    "print(\"Hence, the area obtained by numerical integration = \", area)"
   ]
  },
  {
   "cell_type": "markdown",
   "id": "4d628642",
   "metadata": {},
   "source": [
    "### Numerical integration-2:"
   ]
  },
  {
   "cell_type": "code",
   "execution_count": 4,
   "id": "0a46141a",
   "metadata": {},
   "outputs": [],
   "source": [
    "def f1(x): # x can be a number or an array\n",
    "    return x**2"
   ]
  },
  {
   "cell_type": "code",
   "execution_count": 5,
   "id": "565a22fa",
   "metadata": {},
   "outputs": [],
   "source": [
    "def f2(x): # x can be a number or an array\n",
    "    return np.sin(x)"
   ]
  },
  {
   "cell_type": "code",
   "execution_count": 6,
   "id": "41030b28",
   "metadata": {},
   "outputs": [],
   "source": [
    "def trap(f, a, b, N):\n",
    "    \n",
    "    h = (b-a)/(N)\n",
    "    x = np.array([(a + i*h) for i in range(N+1)])\n",
    "    f_x = f(x)\n",
    "    area_trap = 0\n",
    "    \n",
    "    for i in range(N):\n",
    "        area_trap += ((x[i+1]-x[i])/2)*(f_x[i]+f_x[i+1])\n",
    "    \n",
    "    return area_trap"
   ]
  },
  {
   "cell_type": "code",
   "execution_count": 7,
   "id": "9918ac6f",
   "metadata": {},
   "outputs": [],
   "source": [
    "def simp(f, a, b, N):\n",
    "    \n",
    "    h = (b-a)/(N)\n",
    "    x = np.array([(a + i*h) for i in range(N+1)])\n",
    "    f_x = f(x)\n",
    "    area_simp = 0\n",
    "    \n",
    "    for i in range(0, N-1, 2):\n",
    "        area_simp += (h/3)*(f_x[i] + 4*f_x[i+1] + f_x[i+2])\n",
    "    \n",
    "    return area_simp"
   ]
  },
  {
   "cell_type": "markdown",
   "id": "3d7477b7",
   "metadata": {},
   "source": [
    "### Case-I:"
   ]
  },
  {
   "cell_type": "code",
   "execution_count": 8,
   "id": "742686dc",
   "metadata": {},
   "outputs": [
    {
     "data": {
      "image/png": "[encoded data removed]",
      "text/plain": [
       "<Figure size 432x288 with 1 Axes>"
      ]
     },
     "metadata": {
      "needs_background": "light"
     },
     "output_type": "display_data"
    }
   ],
   "source": [
    "# Initializing the parameters:\n",
    "\n",
    "a1 = -1\n",
    "b1 = 1\n",
    "n1 = 6\n",
    "N1 = 2**n1 # number of intervals\n",
    "h1 = (b1-a1)/(N1)\n",
    "\n",
    "# Plotting the graph of the function \n",
    "x1 = np.array([(a1 + i*h1) for i in range(N1 + 1)])\n",
    "f_x1 = f1(x1)\n",
    "\n",
    "plt.plot(x1, f_x1)\n",
    "plt.grid()\n",
    "plt.show()"
   ]
  },
  {
   "cell_type": "code",
   "execution_count": 9,
   "id": "e144ff5d",
   "metadata": {},
   "outputs": [
    {
     "name": "stdout",
     "output_type": "stream",
     "text": [
      "Hence, the area obtained by numerical integration using Trapezoidal Rule = 0.6669921875\n",
      "Hence, the area obtained by numerical integration using Simpson's 1/3 Rule = 0.6666666666666663\n",
      "The analytical value of area = 0.6666666666666666\n"
     ]
    }
   ],
   "source": [
    "area_trap1 = trap(f1, a1, b1, N1)\n",
    "area_simp1 = simp(f1, a1, b1, N1)\n",
    "\n",
    "print(\"Hence, the area obtained by numerical integration using Trapezoidal Rule =\", area_trap1)\n",
    "print(\"Hence, the area obtained by numerical integration using Simpson's 1/3 Rule =\", area_simp1)\n",
    "print(\"The analytical value of area =\", 2/3)"
   ]
  },
  {
   "cell_type": "markdown",
   "id": "e3876284",
   "metadata": {},
   "source": [
    "### Case-II:"
   ]
  },
  {
   "cell_type": "code",
   "execution_count": 10,
   "id": "69272d34",
   "metadata": {},
   "outputs": [
    {
     "data": {
      "image/png": "[encoded data removed]",
      "text/plain": [
       "<Figure size 432x288 with 1 Axes>"
      ]
     },
     "metadata": {
      "needs_background": "light"
     },
     "output_type": "display_data"
    }
   ],
   "source": [
    "# Initializing the parameters:\n",
    "\n",
    "a2 = 0\n",
    "b2 = np.pi\n",
    "n2 = 6\n",
    "N2 = 2**n2 # number of intervals\n",
    "h2 = (b2-a2)/(N2)\n",
    "\n",
    "# Plotting the graph of the function \n",
    "x2 = np.array([(a2 + i*h2) for i in range(N2 + 1)])\n",
    "f_x2 = f2(x2)\n",
    "\n",
    "plt.plot(x2, f_x2)\n",
    "plt.grid()\n",
    "plt.show()"
   ]
  },
  {
   "cell_type": "code",
   "execution_count": 11,
   "id": "aa8a7ca9",
   "metadata": {},
   "outputs": [
    {
     "name": "stdout",
     "output_type": "stream",
     "text": [
      "Hence, the area obtained by numerical integration using Trapezoidal Rule = 1.9995983886400375\n",
      "Hence, the area obtained by numerical integration using Simpson's 1/3 Rule = 2.000000064530002\n",
      "The analytical value of area = 2\n"
     ]
    }
   ],
   "source": [
    "area_trap2 = trap(f2, a2, b2, N2)\n",
    "area_simp2 = simp(f2, a2, b2, N2)\n",
    "\n",
    "print(\"Hence, the area obtained by numerical integration using Trapezoidal Rule =\", area_trap2)\n",
    "print(\"Hence, the area obtained by numerical integration using Simpson's 1/3 Rule =\", area_simp2)\n",
    "print(\"The analytical value of area =\", 2)"
   ]
  },
  {
   "cell_type": "markdown",
   "id": "8cd11d02",
   "metadata": {},
   "source": [
    "### Case-III:"
   ]
  },
  {
   "cell_type": "markdown",
   "id": "db61c98a",
   "metadata": {},
   "source": [
    "### Error calculation:"
   ]
  },
  {
   "cell_type": "markdown",
   "id": "541671f1",
   "metadata": {},
   "source": [
    "### Numerical integration-4:"
   ]
  },
  {
   "cell_type": "markdown",
   "id": "892b6575",
   "metadata": {},
   "source": [
    "a)"
   ]
  },
  {
   "cell_type": "code",
   "execution_count": 12,
   "id": "a42560e2",
   "metadata": {},
   "outputs": [],
   "source": [
    "def g(x):\n",
    "    return np.sqrt((1 - (x**2))**(-1))"
   ]
  },
  {
   "cell_type": "code",
   "execution_count": 13,
   "id": "6dc52b22",
   "metadata": {},
   "outputs": [
    {
     "name": "stdout",
     "output_type": "stream",
     "text": [
      "Hence, the analytical value of Time period = 1.0\n"
     ]
    }
   ],
   "source": [
    "m = 1\n",
    "w0 = 2*np.pi\n",
    "# Independent of amplitude\n",
    "\n",
    "T_ana = (2*np.pi)/w0\n",
    "print(\"Hence, the analytical value of Time period =\", T_ana)"
   ]
  },
  {
   "cell_type": "markdown",
   "id": "85d24f5d",
   "metadata": {},
   "source": [
    "- https://www.liquisearch.com/simpsons_rule/composite_simpsons_rule"
   ]
  },
  {
   "cell_type": "code",
   "execution_count": null,
   "id": "981a7b9b",
   "metadata": {},
   "outputs": [],
   "source": []
  }
 ],
 "metadata": {
  "kernelspec": {
   "display_name": "Python 3 (ipykernel)",
   "language": "python",
   "name": "python3"
  },
  "language_info": {
   "codemirror_mode": {
    "name": "ipython",
    "version": 3
   },
   "file_extension": ".py",
   "mimetype": "text/x-python",
   "name": "python",
   "nbconvert_exporter": "python",
   "pygments_lexer": "ipython3",
   "version": "3.9.12"
  },
  "vscode": {
   "interpreter": {
    "hash": "f6246b25e200e4c5124e3e61789ac81350562f0761bbcf92ad9e48654207659c"
   }
  }
 },
 "nbformat": 4,
 "nbformat_minor": 5
}
