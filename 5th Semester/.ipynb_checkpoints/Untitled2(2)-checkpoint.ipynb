{
 "cells": [
  {
   "cell_type": "code",
   "execution_count": 97,
   "id": "78e5f22c",
   "metadata": {},
   "outputs": [],
   "source": [
    "import numpy as np\n",
    "import matplotlib.pyplot as plt"
   ]
  },
  {
   "cell_type": "code",
   "execution_count": 98,
   "id": "92fb2024",
   "metadata": {},
   "outputs": [],
   "source": [
    "def trap_lims(X,Y):\n",
    "    integral = 0\n",
    "    for i in range(1,X.shape[0]):\n",
    "        integral = integral+0.5*(Y[i]+Y[i-1])*(X[i]-X[i-1])\n",
    "    return integral\n",
    "def trap_lims_eq(X,Y):\n",
    "    integral = 0\n",
    "    interval = X[1]-X[0]\n",
    "    for i in range(1,X.shape[0]):\n",
    "        integral = integral+0.5*(Y[i]+Y[i-1])*interval\n",
    "    return integral\n",
    "def trap(f,a,b,n):\n",
    "    X = np.arange(a,b,((b-a)/(2**n)))\n",
    "    Y = f(X)\n",
    "    return trap_lims_eq(X,Y)"
   ]
  },
  {
   "cell_type": "code",
   "execution_count": 99,
   "id": "f5c2b4d2",
   "metadata": {},
   "outputs": [],
   "source": [
    "def simp_lims_eq(X,Y):\n",
    "    integral = 0\n",
    "    h = X[1]-X[0]\n",
    "    integral = integral + Y[0]\n",
    "    for i in range(1,int(X.shape[0]/2)):\n",
    "        integral = integral+4*(Y[2*i-1])\n",
    "    for i in range(1,int(X.shape[0]/2 -1)):\n",
    "        integral = integral+2*(Y[2*i])\n",
    "    integral = integral + Y[X.shape[0]-1]\n",
    "    return integral*h/3\n",
    "def simp(f,a,b,n):\n",
    "    X = np.arange(a,b,((b-a)/(2**n)))\n",
    "    Y = f(X)\n",
    "    return simp_lims_eq(X,Y)"
   ]
  },
  {
   "cell_type": "code",
   "execution_count": 100,
   "id": "5433d326",
   "metadata": {},
   "outputs": [],
   "source": [
    "def x_sq(x):\n",
    "    return x**2\n",
    "def sin(x):\n",
    "    return np.sin(x)\n",
    "def f(x):\n",
    "    return (np.sin(x)/x)**2"
   ]
  },
  {
   "cell_type": "code",
   "execution_count": 101,
   "id": "fddab437",
   "metadata": {},
   "outputs": [],
   "source": [
    "X = np.array([1.34,1.46,1.52,1.6,1.87,2.03,2.18,2.9,3.2,3.8,4.15])\n",
    "Y = np.array([1.5,2.3,2.3,2.4,2.5,3.2,4.9,4.7,3.4,7.8,17.1])"
   ]
  },
  {
   "cell_type": "code",
   "execution_count": 102,
   "id": "28039974",
   "metadata": {},
   "outputs": [
    {
     "data": {
      "text/plain": [
       "14.667500000000006"
      ]
     },
     "execution_count": 102,
     "metadata": {},
     "output_type": "execute_result"
    }
   ],
   "source": [
    "trap_lims(X,Y)"
   ]
  },
  {
   "cell_type": "code",
   "execution_count": 110,
   "id": "5a20c874",
   "metadata": {},
   "outputs": [
    {
     "name": "stdout",
     "output_type": "stream",
     "text": [
      "0.6647186242043972\n",
      "0.6627781912684441\n"
     ]
    }
   ],
   "source": [
    "print(trap(x_sq,-1,1,10))\n",
    "print(simp(x_sq,-1,1,10))"
   ]
  },
  {
   "cell_type": "code",
   "execution_count": 112,
   "id": "f5f55c37",
   "metadata": {},
   "outputs": [
    {
     "name": "stdout",
     "output_type": "stream",
     "text": [
      "1.9999937250816482\n",
      "1.9999780378552916\n"
     ]
    }
   ],
   "source": [
    "print(trap(sin,0,np.pi,10))\n",
    "print(simp(sin,0,np.pi,10))"
   ]
  },
  {
   "cell_type": "code",
   "execution_count": 121,
   "id": "c6d47bb2",
   "metadata": {},
   "outputs": [
    {
     "name": "stdout",
     "output_type": "stream",
     "text": [
      "4882812.5\n",
      "3255208.3333333377\n"
     ]
    }
   ],
   "source": [
    "print(trap(f,10**(-10),10**10,10))\n",
    "print(simp(f,10**(-10),10**10,10))"
   ]
  },
  {
   "cell_type": "code",
   "execution_count": 122,
   "id": "6709f914",
   "metadata": {},
   "outputs": [
    {
     "name": "stdout",
     "output_type": "stream",
     "text": [
      "1.5651036367335853\n"
     ]
    }
   ],
   "source": [
    "print(trap(f,10**(-4),10**2,5))"
   ]
  },
  {
   "cell_type": "code",
   "execution_count": 116,
   "id": "54c194b0",
   "metadata": {},
   "outputs": [],
   "source": [
    "def plot_error_trap(f,a,b,tilln):\n",
    "    n_list = np.arange(1,tilln+1)\n",
    "    Y_AN = 2/3*np.ones(tilln)\n",
    "    Y_REL = []\n",
    "    for n in n_list:   \n",
    "        Y_REL.append(trap(f,a,b,n))\n",
    "    plt.plot(n_list,abs((Y_REL-Y_AN)/Y_AN))\n",
    "    #plt.plot(np.log(n_list),np.log(abs((Y_REL-Y_AN)/Y_AN)))\n",
    "    plt.xscale('log')\n",
    "    plt.yscale('log')\n",
    "    plt.grid()\n",
    "def plot_error_simp(f,a,b,tilln):\n",
    "    n_list = np.arange(1,tilln+1)\n",
    "    Y_AN = 2/3*np.ones(tilln)\n",
    "    Y_REL = []\n",
    "    for n in n_list:   \n",
    "        Y_REL.append(simp(f,a,b,n))\n",
    "    plt.plot(n_list,abs((Y_REL-Y_AN)/Y_AN))\n",
    "    #plt.plot(np.log(n_list),np.log(abs((Y_REL-Y_AN)/Y_AN)))\n",
    "    plt.xscale('log')\n",
    "    plt.yscale('log')\n",
    "    plt.grid()"
   ]
  },
  {
   "cell_type": "code",
   "execution_count": 117,
   "id": "2a93b833",
   "metadata": {},
   "outputs": [
    {
     "data": {
      "image/png": "[encoded data removed]",
      "text/plain": [
       "<Figure size 432x288 with 1 Axes>"
      ]
     },
     "metadata": {
      "needs_background": "light"
     },
     "output_type": "display_data"
    }
   ],
   "source": [
    "plot_error_trap(x_sq,-1,1,10)\n",
    "plot_error_simp(x_sq,-1,1,10)"
   ]
  },
  {
   "cell_type": "code",
   "execution_count": 118,
   "id": "e9ab5dcf",
   "metadata": {},
   "outputs": [
    {
     "data": {
      "image/png": "[encoded data removed]",
      "text/plain": [
       "<Figure size 432x288 with 1 Axes>"
      ]
     },
     "metadata": {
      "needs_background": "light"
     },
     "output_type": "display_data"
    }
   ],
   "source": [
    "plot_error_trap(sin,-1,1,10)\n",
    "plot_error_simp(sin,-1,1,10)"
   ]
  },
  {
   "cell_type": "code",
   "execution_count": 109,
   "id": "f97d6fc1",
   "metadata": {},
   "outputs": [
    {
     "name": "stderr",
     "output_type": "stream",
     "text": [
      "/user/phy/miniconda3/lib/python3.7/site-packages/ipykernel_launcher.py:6: RuntimeWarning: invalid value encountered in true_divide\n",
      "  \n",
      "/user/phy/miniconda3/lib/python3.7/site-packages/ipykernel_launcher.py:6: RuntimeWarning: invalid value encountered in true_divide\n",
      "  \n"
     ]
    },
    {
     "data": {
      "image/png": "[encoded data removed]",
      "text/plain": [
       "<Figure size 432x288 with 1 Axes>"
      ]
     },
     "metadata": {
      "needs_background": "light"
     },
     "output_type": "display_data"
    }
   ],
   "source": [
    "plot_error_trap(f,-1,1,10)\n",
    "plot_error_simp(f,-1,1,10)"
   ]
  },
  {
   "cell_type": "code",
   "execution_count": null,
   "id": "e331739e",
   "metadata": {},
   "outputs": [],
   "source": []
  }
 ],
 "metadata": {
  "kernelspec": {
   "display_name": "Python 3 (ipykernel)",
   "language": "python",
   "name": "python3"
  },
  "language_info": {
   "codemirror_mode": {
    "name": "ipython",
    "version": 3
   },
   "file_extension": ".py",
   "mimetype": "text/x-python",
   "name": "python",
   "nbconvert_exporter": "python",
   "pygments_lexer": "ipython3",
   "version": "3.9.12"
  }
 },
 "nbformat": 4,
 "nbformat_minor": 5
}
