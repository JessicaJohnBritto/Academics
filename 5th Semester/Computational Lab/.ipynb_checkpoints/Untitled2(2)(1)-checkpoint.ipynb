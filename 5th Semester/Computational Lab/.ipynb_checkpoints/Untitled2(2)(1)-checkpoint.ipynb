{
 "cells": [
  {
   "cell_type": "code",
   "execution_count": 87,
   "id": "1b95c1f7",
   "metadata": {},
   "outputs": [],
   "source": [
    "import numpy as np\n",
    "import matplotlib.pyplot as plt"
   ]
  },
  {
   "cell_type": "code",
   "execution_count": 88,
   "id": "ad305939",
   "metadata": {},
   "outputs": [],
   "source": [
    "A = np.array([[-6,2,1,2,1],[3,8,-4,1,0],[-1,1,4,10,1],[3,-4,1,9,2],[2,0,1,3,10]])\n",
    "b = np.array([3,4,-2,12,1])"
   ]
  },
  {
   "cell_type": "code",
   "execution_count": 89,
   "id": "7ea1b7f3",
   "metadata": {},
   "outputs": [],
   "source": [
    "def diagonal_dominance_check(A):\n",
    "    counter = 0\n",
    "    for i in range (A.shape[1]):\n",
    "        sum_row = 0\n",
    "        for j in range (i):\n",
    "            sum_row = sum_row + abs(A[i][j])\n",
    "        if sum_row > abs(A[i][i]):\n",
    "            print(\"Not strictly diagonally dominant at row \", i)\n",
    "            counter = counter+1\n",
    "    if (counter==0):\n",
    "        print(\"Matrix is diagonally dominant\")\n",
    "def lower_diagonal(A):\n",
    "    L = np.zeros(A.shape)\n",
    "    for i in range(A.shape[0]):\n",
    "        for j in range (i+1):\n",
    "            L[i][j]=A[i][j]\n",
    "    return L\n",
    "def strictly_upper_diagonal(A):\n",
    "    U = np.zeros(A.shape)\n",
    "    for i in range(A.shape[0]):\n",
    "        for j in range (i):\n",
    "            U[A.shape[0]-1-i][A.shape[0]-1-j]=A[A.shape[0]-1-i][A.shape[0]-1-j]\n",
    "    return U\n",
    "def diagonal(A):\n",
    "    D = np.zeros(A.shape)\n",
    "    for i in range(A.shape[0]):\n",
    "        D[i][i]=A[i][i]\n",
    "    return D\n",
    "def diagonal_inverse(A):\n",
    "    D_I = np.zeros(A.shape)\n",
    "    for i in range(A.shape[0]):\n",
    "        D_I[i][i]=1/A[i][i]\n",
    "    return D_I"
   ]
  },
  {
   "cell_type": "code",
   "execution_count": 133,
   "id": "3780138f",
   "metadata": {},
   "outputs": [],
   "source": [
    "def gauss_siedel(A,b,x,error):\n",
    "    L = lower_diagonal(A)\n",
    "    U = strictly_upper_diagonal(A)\n",
    "    for i in range(100):\n",
    "        if (np.sum(np.absolute(np.matmul(A,x)-b))/A.shape[0]<error):\n",
    "            return x\n",
    "        else:\n",
    "            x = np.matmul(np.linalg.inv(L),(b-np.matmul(U,x)))\n",
    "        "
   ]
  },
  {
   "cell_type": "code",
   "execution_count": 134,
   "id": "80485c34",
   "metadata": {},
   "outputs": [
    {
     "name": "stdout",
     "output_type": "stream",
     "text": [
      "Matrix is diagonally dominant\n"
     ]
    }
   ],
   "source": [
    "diagonal_dominance_check(A)"
   ]
  },
  {
   "cell_type": "code",
   "execution_count": 135,
   "id": "78999276",
   "metadata": {},
   "outputs": [],
   "source": [
    "x = [0,0,0,0,0]"
   ]
  },
  {
   "cell_type": "code",
   "execution_count": 136,
   "id": "9207c756",
   "metadata": {},
   "outputs": [],
   "source": [
    "sol = gauss_siedel(A,b,x,0.00001)"
   ]
  },
  {
   "cell_type": "code",
   "execution_count": 138,
   "id": "0940f7c8",
   "metadata": {},
   "outputs": [
    {
     "data": {
      "text/plain": [
       "array([-1.12225812, -1.38906701, -4.24606965,  1.49505458,  0.30054222])"
      ]
     },
     "execution_count": 138,
     "metadata": {},
     "output_type": "execute_result"
    }
   ],
   "source": [
    "sol"
   ]
  },
  {
   "cell_type": "code",
   "execution_count": null,
   "id": "658814af",
   "metadata": {},
   "outputs": [],
   "source": []
  }
 ],
 "metadata": {
  "kernelspec": {
   "display_name": "Python 3 (ipykernel)",
   "language": "python",
   "name": "python3"
  },
  "language_info": {
   "codemirror_mode": {
    "name": "ipython",
    "version": 3
   },
   "file_extension": ".py",
   "mimetype": "text/x-python",
   "name": "python",
   "nbconvert_exporter": "python",
   "pygments_lexer": "ipython3",
   "version": "3.9.12"
  }
 },
 "nbformat": 4,
 "nbformat_minor": 5
}
