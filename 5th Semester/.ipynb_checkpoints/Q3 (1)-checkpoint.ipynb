{
 "cells": [
  {
   "cell_type": "code",
   "execution_count": 1,
   "id": "dc3a53a1",
   "metadata": {},
   "outputs": [],
   "source": [
    "import numpy as np\n",
    "import matplotlib.pyplot as plt\n",
    "import math as m"
   ]
  },
  {
   "cell_type": "code",
   "execution_count": 2,
   "id": "61b54cb3",
   "metadata": {},
   "outputs": [],
   "source": [
    "def area(x1, x2, f1, f2):\n",
    "    A=0.5 * (x2 - x1)* (np.abs(f2+f1))  # Area finding\n",
    "    return(A)"
   ]
  },
  {
   "cell_type": "code",
   "execution_count": 3,
   "id": "96f61f33",
   "metadata": {},
   "outputs": [],
   "source": [
    "def trap(function,a, b, N):\n",
    "    x=np.linspace(a, b, N)\n",
    "    A=[]\n",
    "    y = function(x)\n",
    "    a=len(x) \n",
    "    \n",
    "    for i in range(a-1):\n",
    "        A.append(area(x[i], x[i+1], y[i], y[i+1]))\n",
    "        \n",
    "    integral=0\n",
    "    \n",
    "    for i in A:\n",
    "        integral=integral + i\n",
    "        \n",
    "    return(integral)"
   ]
  },
  {
   "cell_type": "code",
   "execution_count": 4,
   "id": "3aec1573",
   "metadata": {},
   "outputs": [],
   "source": [
    "def Timeperiod_1(a,b,e,N,E): \n",
    "    def fun1(x):\n",
    "        y=2*((m.pi)**2 )*(x**2)\n",
    "        z=y/E\n",
    "        w=1/(1-z)\n",
    "        return(w**(1/2))\n",
    "    \n",
    "    area=trap(fun1, a+e, b-e, N)\n",
    "    con=(2/E)**(1/2)\n",
    "    return (con*area)"
   ]
  },
  {
   "cell_type": "code",
   "execution_count": 5,
   "id": "206804fd",
   "metadata": {},
   "outputs": [
    {
     "data": {
      "text/plain": [
       "0.9936339879121445"
      ]
     },
     "execution_count": 5,
     "metadata": {},
     "output_type": "execute_result"
    }
   ],
   "source": [
    "Timeperiod_1(-2, 2, 0.0001, 10**6, 8*(m.pi)**2 )"
   ]
  },
  {
   "cell_type": "code",
   "execution_count": 6,
   "id": "3af6027a",
   "metadata": {},
   "outputs": [
    {
     "data": {
      "text/plain": [
       "0.995499008979651"
      ]
     },
     "execution_count": 6,
     "metadata": {},
     "output_type": "execute_result"
    }
   ],
   "source": [
    "Timeperiod_1(-4, 4, 0.0001, 10**6, 32*(m.pi)**2)"
   ]
  },
  {
   "cell_type": "code",
   "execution_count": 7,
   "id": "fb8105b8",
   "metadata": {},
   "outputs": [
    {
     "data": {
      "text/plain": [
       "0.9968185927401884"
      ]
     },
     "execution_count": 7,
     "metadata": {},
     "output_type": "execute_result"
    }
   ],
   "source": [
    "Timeperiod_1(-8, 8, 0.0001, 10**6, 128*(m.pi)**2)"
   ]
  },
  {
   "cell_type": "code",
   "execution_count": 8,
   "id": "4e0d9a68",
   "metadata": {},
   "outputs": [
    {
     "data": {
      "text/plain": [
       "[1.0010628874683594,\n",
       " 0.9995161458274536,\n",
       " 0.9979934776313907,\n",
       " 0.9936339879121445,\n",
       " 0.9798674829466673,\n",
       " 0.9363114672632058]"
      ]
     },
     "execution_count": 8,
     "metadata": {},
     "output_type": "execute_result"
    }
   ],
   "source": [
    "epsilon=[0.0000001,0.000001,0.00001,0.0001,0.001,0.01]\n",
    "x=[]\n",
    "for i in epsilon:\n",
    "    x.append(Timeperiod_1(-2,2,i,10**6, 8*(m.pi)**2))\n",
    "x  \n"
   ]
  },
  {
   "cell_type": "code",
   "execution_count": 9,
   "id": "820b251e",
   "metadata": {},
   "outputs": [
    {
     "data": {
      "image/png": "[encoded data removed]",
      "text/plain": [
       "<Figure size 432x288 with 1 Axes>"
      ]
     },
     "metadata": {
      "needs_background": "light"
     },
     "output_type": "display_data"
    }
   ],
   "source": [
    "plt.plot(epsilon,x, marker ='o')\n",
    "plt.xscale('log')\n",
    "plt.yscale('log')"
   ]
  },
  {
   "cell_type": "code",
   "execution_count": 10,
   "id": "06ea6730",
   "metadata": {},
   "outputs": [],
   "source": [
    "\n",
    "def fun2(x):\n",
    "        y=m.exp(x**2/25) - 1\n",
    "        z=y*(25*2*(m.pi)**2)\n",
    "        return(z)\n",
    "    \n",
    "def Timeperiod_4(a,b,e,N,E):\n",
    "    def fun2(x):\n",
    "        y=m.exp(x**2/25) - 1\n",
    "        z=y*(25*2*(m.pi)**2)\n",
    "        return(z)\n",
    "    integral=[]\n",
    "    x=np.linspace(a, b, N)\n",
    "    A=[]\n",
    "    for i in x:\n",
    "        A.append(fun2(i))\n",
    "    a=len(x)\n",
    "    for i in range(a-1):\n",
    "        integral.append(area(x[i], x[i+1], A[i], A[i+1]))\n",
    "        \n",
    "    j=0\n",
    "    for i in integral:\n",
    "        j=j + i\n",
    "        \n",
    "    con=(2/E)**(1/2)\n",
    "    return (con*j)"
   ]
  },
  {
   "cell_type": "code",
   "execution_count": 11,
   "id": "10774cee",
   "metadata": {},
   "outputs": [
    {
     "data": {
      "text/plain": [
       "56905.81250050961"
      ]
     },
     "execution_count": 11,
     "metadata": {},
     "output_type": "execute_result"
    }
   ],
   "source": [
    "Timeperiod_4(-10, 10, 0.0001, 10**6,m.pi)"
   ]
  },
  {
   "cell_type": "code",
   "execution_count": 12,
   "id": "b412ae36",
   "metadata": {},
   "outputs": [
    {
     "data": {
      "text/plain": [
       "2270.2134607049657"
      ]
     },
     "execution_count": 12,
     "metadata": {},
     "output_type": "execute_result"
    }
   ],
   "source": [
    "Timeperiod_4(-10, 10, 0.0001, 10**6, 200*(m.pi)**2)"
   ]
  },
  {
   "cell_type": "code",
   "execution_count": 13,
   "id": "950d17e6",
   "metadata": {},
   "outputs": [
    {
     "data": {
      "text/plain": [
       "0.06816895927810732"
      ]
     },
     "execution_count": 13,
     "metadata": {},
     "output_type": "execute_result"
    }
   ],
   "source": [
    "Timeperiod_4(0.25,0.65, 0.0001, 10**6, 128*(m.pi)**2)"
   ]
  },
  {
   "cell_type": "code",
   "execution_count": 14,
   "id": "afaa560e",
   "metadata": {},
   "outputs": [
    {
     "data": {
      "text/plain": [
       "0.13100326581573382"
      ]
     },
     "execution_count": 14,
     "metadata": {},
     "output_type": "execute_result"
    }
   ],
   "source": [
    "Timeperiod_4(0,0.25, 0.001, 10**6, 1.2336)"
   ]
  },
  {
   "cell_type": "code",
   "execution_count": 15,
   "id": "addbbccb",
   "metadata": {},
   "outputs": [
    {
     "data": {
      "text/plain": [
       "0.13100326581573096"
      ]
     },
     "execution_count": 15,
     "metadata": {},
     "output_type": "execute_result"
    }
   ],
   "source": [
    "Timeperiod_4(-0.25,0,0.001, 10**6, 1.2336 )"
   ]
  },
  {
   "cell_type": "code",
   "execution_count": 16,
   "id": "14c3d9dc",
   "metadata": {},
   "outputs": [
    {
     "data": {
      "text/plain": [
       "[<matplotlib.lines.Line2D at 0x1dfc07b1ca0>]"
      ]
     },
     "execution_count": 16,
     "metadata": {},
     "output_type": "execute_result"
    },
    {
     "data": {
      "image/png": "[encoded data removed]",
      "text/plain": [
       "<Figure size 432x288 with 1 Axes>"
      ]
     },
     "metadata": {
      "needs_background": "light"
     },
     "output_type": "display_data"
    }
   ],
   "source": [
    "def fun2(x):\n",
    "        y=m.exp(x**2/25) - 1\n",
    "        z=y*(25*2*(m.pi)**2)\n",
    "        return(z)\n",
    "    \n",
    "x=np.linspace(-10,10,100)\n",
    "A=[]\n",
    "for i in x:\n",
    "    A.append(fun2(i))\n",
    "\n",
    "plt.plot(x,A)"
   ]
  },
  {
   "cell_type": "code",
   "execution_count": 17,
   "id": "d31b1bfa",
   "metadata": {},
   "outputs": [
    {
     "data": {
      "text/plain": [
       "[<matplotlib.lines.Line2D at 0x1dfc46a26a0>]"
      ]
     },
     "execution_count": 17,
     "metadata": {},
     "output_type": "execute_result"
    },
    {
     "data": {
      "image/png": "[encoded data removed]",
      "text/plain": [
       "<Figure size 432x288 with 1 Axes>"
      ]
     },
     "metadata": {
      "needs_background": "light"
     },
     "output_type": "display_data"
    }
   ],
   "source": [
    "x=np.linspace(-0.5,0.5,100)\n",
    "A=[]\n",
    "for i in x:\n",
    "    A.append(fun2(i))\n",
    "\n",
    "plt.plot(x,A)"
   ]
  },
  {
   "cell_type": "code",
   "execution_count": 18,
   "id": "4360ca96",
   "metadata": {},
   "outputs": [
    {
     "data": {
      "text/plain": [
       "1.0504320208919213"
      ]
     },
     "execution_count": 18,
     "metadata": {},
     "output_type": "execute_result"
    }
   ],
   "source": [
    "Timeperiod_4(-0.5,0.5,0.001, 10**6, 4.934 )"
   ]
  },
  {
   "cell_type": "code",
   "execution_count": 19,
   "id": "d481e2c4",
   "metadata": {},
   "outputs": [
    {
     "data": {
      "text/plain": [
       "0.9677714296205919"
      ]
     },
     "execution_count": 19,
     "metadata": {},
     "output_type": "execute_result"
    }
   ],
   "source": [
    "Timeperiod_4(-0.48, 0.48, 0.0001, 10**6,((0.48*(m.pi))**2)*2)"
   ]
  },
  {
   "cell_type": "code",
   "execution_count": 20,
   "id": "ad66abad",
   "metadata": {},
   "outputs": [
    {
     "data": {
      "text/plain": [
       "0.888603165194453"
      ]
     },
     "execution_count": 20,
     "metadata": {},
     "output_type": "execute_result"
    }
   ],
   "source": [
    "Timeperiod_4(-0.46, 0.46, 0.0001, 10**6,((0.46*(m.pi))**2)*2)"
   ]
  },
  {
   "cell_type": "code",
   "execution_count": 21,
   "id": "1eb3bf78",
   "metadata": {},
   "outputs": [
    {
     "data": {
      "text/plain": [
       "0.8502951968495623"
      ]
     },
     "execution_count": 21,
     "metadata": {},
     "output_type": "execute_result"
    }
   ],
   "source": [
    "Timeperiod_4(-0.45, 0.45, 0.0001, 10**6,((0.45*(m.pi))**2)*2)"
   ]
  },
  {
   "cell_type": "code",
   "execution_count": 22,
   "id": "249719dc",
   "metadata": {},
   "outputs": [
    {
     "data": {
      "text/plain": [
       "0.776228816196579"
      ]
     },
     "execution_count": 22,
     "metadata": {},
     "output_type": "execute_result"
    }
   ],
   "source": [
    "Timeperiod_4(-0.43, 0.43, 0.0001, 10**6,((0.43*(m.pi))**2)*2)"
   ]
  },
  {
   "cell_type": "code",
   "execution_count": 23,
   "id": "dc743602",
   "metadata": {},
   "outputs": [
    {
     "data": {
      "text/plain": [
       "0.6714951923933299"
      ]
     },
     "execution_count": 23,
     "metadata": {},
     "output_type": "execute_result"
    }
   ],
   "source": [
    "Timeperiod_4(-0.4, 0.4, 0.0001, 10**6,((0.4*(m.pi))**2)*2)"
   ]
  }
 ],
 "metadata": {
  "kernelspec": {
   "display_name": "Python 3 (ipykernel)",
   "language": "python",
   "name": "python3"
  },
  "language_info": {
   "codemirror_mode": {
    "name": "ipython",
    "version": 3
   },
   "file_extension": ".py",
   "mimetype": "text/x-python",
   "name": "python",
   "nbconvert_exporter": "python",
   "pygments_lexer": "ipython3",
   "version": "3.9.12"
  }
 },
 "nbformat": 4,
 "nbformat_minor": 5
}
