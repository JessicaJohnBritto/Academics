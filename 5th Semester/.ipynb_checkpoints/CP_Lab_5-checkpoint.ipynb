{
 "cells": [
  {
   "cell_type": "code",
   "execution_count": 1,
   "id": "e096c658",
   "metadata": {},
   "outputs": [],
   "source": [
    "import numpy as np\n",
    "import matplotlib.pyplot as plt"
   ]
  },
  {
   "cell_type": "code",
   "execution_count": 2,
   "id": "695142d1",
   "metadata": {},
   "outputs": [],
   "source": [
    "def trap_lims(X,Y):\n",
    "    integral = 0\n",
    "    for i in range(1,X.shape[0]):\n",
    "        integral = integral+0.5*(Y[i]+Y[i-1])*(X[i]-X[i-1])\n",
    "    return integral\n",
    "def trap_lims_eq(X,Y):\n",
    "    integral = 0\n",
    "    interval = X[1]-X[0]\n",
    "    for i in range(1,X.shape[0]):\n",
    "        integral = integral+0.5*(Y[i]+Y[i-1])*interval\n",
    "    return integral\n",
    "def trap(f,a,b,n):\n",
    "    X = np.arange(a,b,((b-a)/(2**n)))\n",
    "    Y = f(X)\n",
    "    return trap_lims_eq(X,Y)"
   ]
  },
  {
   "cell_type": "code",
   "execution_count": 3,
   "id": "5fc427ca",
   "metadata": {},
   "outputs": [],
   "source": [
    "def simp_lims_eq(X,Y):\n",
    "    integral = 0\n",
    "    h = X[1]-X[0]\n",
    "    integral = integral + Y[0]\n",
    "    for i in range(1,int(X.shape[0]/2)):\n",
    "        integral = integral+4*(Y[2*i-1])\n",
    "    for i in range(1,int(X.shape[0]/2 -1)):\n",
    "        integral = integral+2*(Y[2*i])\n",
    "    integral = integral + Y[X.shape[0]-1]\n",
    "    return integral*h/3\n",
    "def simp(f,a,b,n):\n",
    "    X = np.arange(a,b,((b-a)/(2**n)))\n",
    "    Y = f(X)\n",
    "    return simp_lims_eq(X,Y)"
   ]
  },
  {
   "cell_type": "code",
   "execution_count": 4,
   "id": "605a3d88",
   "metadata": {},
   "outputs": [],
   "source": [
    "def x_sq(x):\n",
    "    return x**2\n",
    "def sin(x):\n",
    "    return np.sin(x)\n",
    "def f(x):\n",
    "    return (np.sin(x)/x)**2"
   ]
  },
  {
   "cell_type": "code",
   "execution_count": 5,
   "id": "bbb030f9",
   "metadata": {},
   "outputs": [],
   "source": [
    "X = np.array([1.34,1.46,1.52,1.6,1.87,2.03,2.18,2.9,3.2,3.8,4.15])\n",
    "Y = np.array([1.5,2.3,2.3,2.4,2.5,3.2,4.9,4.7,3.4,7.8,17.1])"
   ]
  },
  {
   "cell_type": "code",
   "execution_count": 6,
   "id": "c317a50b",
   "metadata": {},
   "outputs": [
    {
     "data": {
      "text/plain": [
       "14.667500000000006"
      ]
     },
     "execution_count": 6,
     "metadata": {},
     "output_type": "execute_result"
    }
   ],
   "source": [
    "trap_lims(X,Y)"
   ]
  },
  {
   "cell_type": "code",
   "execution_count": 7,
   "id": "2100e512",
   "metadata": {},
   "outputs": [
    {
     "name": "stdout",
     "output_type": "stream",
     "text": [
      "0.6647186242043972\n",
      "0.6627781912684441\n"
     ]
    }
   ],
   "source": [
    "print(trap(x_sq,-1,1,10))\n",
    "print(simp(x_sq,-1,1,10))"
   ]
  },
  {
   "cell_type": "code",
   "execution_count": 8,
   "id": "5d2ea0bd",
   "metadata": {},
   "outputs": [
    {
     "name": "stdout",
     "output_type": "stream",
     "text": [
      "1.9999937250816482\n",
      "1.9999780378552916\n"
     ]
    }
   ],
   "source": [
    "print(trap(sin,0,np.pi,10))\n",
    "print(simp(sin,0,np.pi,10))"
   ]
  },
  {
   "cell_type": "code",
   "execution_count": 9,
   "id": "a4567088",
   "metadata": {},
   "outputs": [
    {
     "name": "stdout",
     "output_type": "stream",
     "text": [
      "4882812.5\n",
      "3255208.3333333377\n"
     ]
    }
   ],
   "source": [
    "print(trap(f,10**(-10),10**10,10))\n",
    "print(simp(f,10**(-10),10**10,10))"
   ]
  },
  {
   "cell_type": "code",
   "execution_count": 10,
   "id": "cc125704",
   "metadata": {},
   "outputs": [
    {
     "name": "stdout",
     "output_type": "stream",
     "text": [
      "1.5651036367335853\n"
     ]
    }
   ],
   "source": [
    "print(trap(f,10**(-4),10**2,5))"
   ]
  },
  {
   "cell_type": "code",
   "execution_count": 11,
   "id": "26bbabce",
   "metadata": {},
   "outputs": [],
   "source": [
    "def plot_error_trap(f,a,b,tilln):\n",
    "    n_list = np.arange(1,tilln+1)\n",
    "    Y_AN = 2/3*np.ones(tilln)\n",
    "    Y_REL = []\n",
    "    for n in n_list:   \n",
    "        Y_REL.append(trap(f,a,b,n))\n",
    "    plt.plot(n_list,abs((Y_REL-Y_AN)/Y_AN))\n",
    "    #plt.plot(np.log(n_list),np.log(abs((Y_REL-Y_AN)/Y_AN)))\n",
    "    plt.xscale('log')\n",
    "    plt.yscale('log')\n",
    "    plt.grid()\n",
    "def plot_error_simp(f,a,b,tilln):\n",
    "    n_list = np.arange(1,tilln+1)\n",
    "    Y_AN = 2/3*np.ones(tilln)\n",
    "    Y_REL = []\n",
    "    for n in n_list:   \n",
    "        Y_REL.append(simp(f,a,b,n))\n",
    "    plt.plot(n_list,abs((Y_REL-Y_AN)/Y_AN))\n",
    "    #plt.plot(np.log(n_list),np.log(abs((Y_REL-Y_AN)/Y_AN)))\n",
    "    plt.xscale('log')\n",
    "    plt.yscale('log')\n",
    "    plt.grid()"
   ]
  },
  {
   "cell_type": "code",
   "execution_count": 12,
   "id": "5aaa41fb",
   "metadata": {},
   "outputs": [
    {
     "data": {
      "image/png": "[encoded data removed]",
      "text/plain": [
       "<Figure size 432x288 with 1 Axes>"
      ]
     },
     "metadata": {
      "needs_background": "light"
     },
     "output_type": "display_data"
    }
   ],
   "source": [
    "plot_error_trap(x_sq,-1,1,10)\n",
    "plot_error_simp(x_sq,-1,1,10)"
   ]
  },
  {
   "cell_type": "code",
   "execution_count": 13,
   "id": "5e74cc3d",
   "metadata": {},
   "outputs": [
    {
     "data": {
      "image/png": "[encoded data removed]",
      "text/plain": [
       "<Figure size 432x288 with 1 Axes>"
      ]
     },
     "metadata": {
      "needs_background": "light"
     },
     "output_type": "display_data"
    }
   ],
   "source": [
    "plot_error_trap(sin,-1,1,10)\n",
    "plot_error_simp(sin,-1,1,10)"
   ]
  },
  {
   "cell_type": "code",
   "execution_count": 14,
   "id": "25413d03",
   "metadata": {},
   "outputs": [
    {
     "name": "stderr",
     "output_type": "stream",
     "text": [
      "C:\\Users\\barbi\\AppData\\Local\\Temp\\ipykernel_14660\\1572090783.py:6: RuntimeWarning: invalid value encountered in true_divide\n",
      "  return (np.sin(x)/x)**2\n"
     ]
    },
    {
     "data": {
      "image/png": "[encoded data removed]",
      "text/plain": [
       "<Figure size 432x288 with 1 Axes>"
      ]
     },
     "metadata": {
      "needs_background": "light"
     },
     "output_type": "display_data"
    }
   ],
   "source": [
    "plot_error_trap(f,-1,1,10)\n",
    "plot_error_simp(f,-1,1,10)"
   ]
  },
  {
   "cell_type": "code",
   "execution_count": 15,
   "id": "4be9c00d",
   "metadata": {},
   "outputs": [],
   "source": [
    "def Time_period(x):\n",
    "    A = 5\n",
    "    t = 1/np.sqrt(A*A - x*x)\n",
    "    return t*(2/(2*np.pi))"
   ]
  },
  {
   "cell_type": "code",
   "execution_count": 16,
   "id": "309fdd2e",
   "metadata": {},
   "outputs": [
    {
     "name": "stdout",
     "output_type": "stream",
     "text": [
      "0.98676656595797\n"
     ]
    }
   ],
   "source": [
    "e = 0.0001\n",
    "A = 5\n",
    "print(trap(Time_period,-1*A*(1-e),A*(1-e),10))"
   ]
  },
  {
   "cell_type": "code",
   "execution_count": 17,
   "id": "1446c16f",
   "metadata": {},
   "outputs": [],
   "source": [
    "X_list = np.logspace(-10,-1,100)\n",
    "Y_list = []\n",
    "for e in X_list:\n",
    "    Y_list.append(trap(Time_period,-1*A*(1-e),A*(1-e),10))"
   ]
  },
  {
   "cell_type": "code",
   "execution_count": 18,
   "id": "edc1654d",
   "metadata": {},
   "outputs": [
    {
     "data": {
      "image/png": "[encoded data removed]",
      "text/plain": [
       "<Figure size 432x288 with 1 Axes>"
      ]
     },
     "metadata": {
      "needs_background": "light"
     },
     "output_type": "display_data"
    }
   ],
   "source": [
    "plt.plot(X_list,Y_list)\n",
    "plt.grid()\n",
    "plt.xscale('log')\n",
    "plt.yscale('log')"
   ]
  },
  {
   "cell_type": "code",
   "execution_count": 19,
   "id": "1c32b21a",
   "metadata": {},
   "outputs": [],
   "source": [
    "def Time_period(x):\n",
    "    A= 7\n",
    "    L = 5\n",
    "    t = 1/np.sqrt(np.exp(A*A/(L*L))-np.exp(x*x/(L*L)))\n",
    "    return t*(2/(2*L*np.pi))"
   ]
  },
  {
   "cell_type": "code",
   "execution_count": 20,
   "id": "c822b63d",
   "metadata": {},
   "outputs": [
    {
     "name": "stdout",
     "output_type": "stream",
     "text": [
      "0.4656081721608507\n"
     ]
    }
   ],
   "source": [
    "e = 0.0001\n",
    "A = 7\n",
    "L = 5 \n",
    "print(trap(Time_period,-1*A*(1-e),A*(1-e),10))"
   ]
  },
  {
   "cell_type": "code",
   "execution_count": 21,
   "id": "0f3b28ab",
   "metadata": {},
   "outputs": [],
   "source": [
    "def V_2(A,L,w):\n",
    "    A = A\n",
    "    L = L\n",
    "    w = w\n",
    "    def inner_func(x):\n",
    "        t = 1/np.sqrt(np.exp(A*A/(L*L))-np.exp(x*x/(L*L)))\n",
    "        return t*(2/(L*w))\n",
    "    return trap(inner_func,-1*A*(1-e),A*(1-e),10)"
   ]
  },
  {
   "cell_type": "code",
   "execution_count": 22,
   "id": "b7e1be14",
   "metadata": {},
   "outputs": [
    {
     "name": "stderr",
     "output_type": "stream",
     "text": [
      "C:\\Users\\barbi\\AppData\\Local\\Temp\\ipykernel_14660\\3910652342.py:6: RuntimeWarning: divide by zero encountered in true_divide\n",
      "  t = 1/np.sqrt(np.exp(A*A/(L*L))-np.exp(x*x/(L*L)))\n"
     ]
    }
   ],
   "source": [
    "X_list = np.arange(-10,10,0.01)\n",
    "Y_list = []\n",
    "for A in X_list:\n",
    "    if (A!=0):\n",
    "        Y_list.append(abs(V_2(A,5,2*np.pi)))"
   ]
  },
  {
   "cell_type": "code",
   "execution_count": 23,
   "id": "102ee1ad",
   "metadata": {},
   "outputs": [
    {
     "data": {
      "image/png": "[encoded data removed]",
      "text/plain": [
       "<Figure size 432x288 with 1 Axes>"
      ]
     },
     "metadata": {
      "needs_background": "light"
     },
     "output_type": "display_data"
    }
   ],
   "source": [
    "plt.plot(X_list,Y_list)\n",
    "plt.grid()"
   ]
  },
  {
   "cell_type": "code",
   "execution_count": null,
   "id": "58a98ba5",
   "metadata": {},
   "outputs": [],
   "source": []
  }
 ],
 "metadata": {
  "kernelspec": {
   "display_name": "Python 3 (ipykernel)",
   "language": "python",
   "name": "python3"
  },
  "language_info": {
   "codemirror_mode": {
    "name": "ipython",
    "version": 3
   },
   "file_extension": ".py",
   "mimetype": "text/x-python",
   "name": "python",
   "nbconvert_exporter": "python",
   "pygments_lexer": "ipython3",
   "version": "3.9.12"
  }
 },
 "nbformat": 4,
 "nbformat_minor": 5
}
