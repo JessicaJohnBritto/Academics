{
 "cells": [
  {
   "cell_type": "code",
   "execution_count": 1,
   "id": "86e0a056",
   "metadata": {},
   "outputs": [],
   "source": [
    "import numpy as np\n",
    "import matplotlib.pyplot as plt"
   ]
  },
  {
   "cell_type": "code",
   "execution_count": 2,
   "id": "16a3282b",
   "metadata": {},
   "outputs": [
    {
     "name": "stdout",
     "output_type": "stream",
     "text": [
      "Not Diagonally Dominant\n"
     ]
    }
   ],
   "source": [
    "def f(A):\n",
    "    flag = 0\n",
    "    l = len(A)\n",
    "    \n",
    "    s = 0\n",
    "    \n",
    "    for i in range(l):\n",
    "        for j in range(l):\n",
    "            if j != i:\n",
    "                s = s + abs(A[i][j])\n",
    "        if (abs(A[i][i]) - s) < 0:\n",
    "            flag = 1\n",
    "    \n",
    "    return flag;\n",
    "\n",
    "A = [[-6, 2, 1, 2, 1] , [3, 8, -4, 1, 0], [-1, 1, 4, 10, 1], [3, -4, 1, 9, 2], [2, 0, 1, 3, 10]]\n",
    "\n",
    "if f(A) == 0:\n",
    "    print(\"Diagonally Dominant\")\n",
    "else:\n",
    "    print(\"Not Diagonally Dominant\")"
   ]
  },
  {
   "cell_type": "code",
   "execution_count": 3,
   "id": "7f11f88e",
   "metadata": {},
   "outputs": [
    {
     "name": "stdout",
     "output_type": "stream",
     "text": [
      "[-1.12221619 -1.38881036 -4.24608106  1.49515094  0.30050606]\n"
     ]
    }
   ],
   "source": [
    "def f(A,b):\n",
    "    flag = 0\n",
    "    l = len(A)\n",
    "    x0 = [10,10,10,10,10];\n",
    "    \n",
    "    while flag == 0:\n",
    "        x1 = np.zeros(l);\n",
    "        e = np.zeros(l)\n",
    "        for i in range(l):\n",
    "            for j in range(l):\n",
    "                \n",
    "                if j < i:\n",
    "                    x1[i] = x1[i] - A[i][j]*x1[j]\n",
    "                elif j>i:\n",
    "                    x1[i] = x1[i] - A[i][j]*x0[j]\n",
    "                else:\n",
    "                    x1[i] = x1[i] + b[i]\n",
    "        \n",
    "            x1[i] = x1[i]/A[i][i]\n",
    "        \n",
    "            e[i] = abs(x1[i] - x0[i])\n",
    "            x0[i] = x1[i]\n",
    "            \n",
    "            \n",
    "        max = 0\n",
    "        for k in range(l):\n",
    "            if e[k]>max:\n",
    "                max = e[k]\n",
    "        \n",
    "        if abs(max)<0.001:\n",
    "            flag = 1\n",
    "            \n",
    "    print(x1)\n",
    "\n",
    "A = [[-6, 2, 1, 2, 1] , [3, 8, -4, 1, 0], [-1, 1, 4, 10, 1], [3, -4, 1, 9, 2], [2, 0, 1, 3, 10]]\n",
    "b = [3, 4, -2, 12, 1]\n",
    "\n",
    "f(A,b)"
   ]
  },
  {
   "cell_type": "code",
   "execution_count": 4,
   "id": "46a9ea9e",
   "metadata": {},
   "outputs": [
    {
     "data": {
      "text/plain": [
       "16.079310344827586"
      ]
     },
     "execution_count": 4,
     "metadata": {},
     "output_type": "execute_result"
    }
   ],
   "source": [
    "def f(x,p1,p2,p3):\n",
    "    if p1[0] < x < p2[0]:\n",
    "        y = p1[1] + (x - p1[0])*(p2[1] - p1[1])/(p2[0] - p1[0])\n",
    "    if p2[0] < x < p3[0]:\n",
    "        y = p2[1] + (x - p2[0])*(p3[1] - p2[1])/(p3[0] - p2[0])\n",
    "        \n",
    "    return y\n",
    "\n",
    "x = 4\n",
    "p1 = [1.0, 8.0]\n",
    "p2 = [2.1, 20.6]\n",
    "p3 = [5.0, 13.7]\n",
    "\n",
    "f(x,p1,p2,p3)"
   ]
  },
  {
   "cell_type": "code",
   "execution_count": 6,
   "id": "fd4e7e95",
   "metadata": {
    "scrolled": true
   },
   "outputs": [
    {
     "name": "stdout",
     "output_type": "stream",
     "text": [
      "1.475\n"
     ]
    }
   ],
   "source": [
    "f = open('points.txt', 'r', encoding=\"utf-8\")\n",
    "s = f.read()\n",
    "points=[[float(u) for u in xy.split('\\t')] for xy in s.split('\\n')]\n",
    "\n",
    "y = 0.0\n",
    "x = 1.05;\n",
    "l = len(points)\n",
    "for i in range(l-1):\n",
    "    if points[i][0] < x < points[i+1][0]:\n",
    "        y = points[i][1] + (x - points[i][0])*(points[i+1][1] - points[i][1])/(points[i+1][0] - points[i][0])\n",
    "print(y)"
   ]
  },
  {
   "cell_type": "code",
   "execution_count": null,
   "id": "21bc7f52",
   "metadata": {},
   "outputs": [],
   "source": []
  }
 ],
 "metadata": {
  "kernelspec": {
   "display_name": "Python 3 (ipykernel)",
   "language": "python",
   "name": "python3"
  },
  "language_info": {
   "codemirror_mode": {
    "name": "ipython",
    "version": 3
   },
   "file_extension": ".py",
   "mimetype": "text/x-python",
   "name": "python",
   "nbconvert_exporter": "python",
   "pygments_lexer": "ipython3",
   "version": "3.9.12"
  }
 },
 "nbformat": 4,
 "nbformat_minor": 5
}
