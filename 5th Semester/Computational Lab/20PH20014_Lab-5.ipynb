{
 "cells": [
  {
   "cell_type": "code",
   "execution_count": 2,
   "id": "e1aff3a5",
   "metadata": {},
   "outputs": [],
   "source": [
    "import numpy as np\n",
    "import matplotlib.pyplot as plt\n",
    "import random"
   ]
  },
  {
   "cell_type": "markdown",
   "id": "65658636",
   "metadata": {},
   "source": [
    "# Numerical Integration 1"
   ]
  },
  {
   "cell_type": "code",
   "execution_count": 3,
   "id": "0e5b443d",
   "metadata": {},
   "outputs": [],
   "source": [
    "x = [1.34, 1.46, 1.52, 1.6, 1.87, 2.03, 2.18, 2.8, 3.2, 3.8, 4.15]\n",
    "y = [1.5, 2.3, 2.3, 2.4, 2.5, 3.2, 4.9, 4.7, 3.4, 7.8, 17.1]"
   ]
  },
  {
   "cell_type": "code",
   "execution_count": 4,
   "id": "2b6b40eb",
   "metadata": {},
   "outputs": [
    {
     "data": {
      "text/plain": [
       "14.592500000000005"
      ]
     },
     "execution_count": 4,
     "metadata": {},
     "output_type": "execute_result"
    }
   ],
   "source": [
    "def NI_1(x,y):\n",
    "    sum = 0\n",
    "    for i in range(len(y)-1):\n",
    "        h = x[i+1] - x[i] \n",
    "        sum += h*0.5*(y[i+1]+y[i])\n",
    "    return sum\n",
    "NI_1(x,y)"
   ]
  },
  {
   "cell_type": "markdown",
   "id": "dcb586e8",
   "metadata": {},
   "source": [
    "# Numerical Integration 2"
   ]
  },
  {
   "cell_type": "code",
   "execution_count": 49,
   "id": "1804a59c",
   "metadata": {},
   "outputs": [
    {
     "data": {
      "image/png": "[encoded data removed]",
      "text/plain": [
       "<Figure size 432x288 with 1 Axes>"
      ]
     },
     "metadata": {
      "needs_background": "light"
     },
     "output_type": "display_data"
    }
   ],
   "source": [
    "def f(x):\n",
    "    return x**2\n",
    "\n",
    "def g(x):\n",
    "    return np.sin(x)\n",
    "\n",
    "def k(x):\n",
    "    l = np.sin(x)\n",
    "    j = l/x\n",
    "    jj = j*j\n",
    "    return jj\n",
    "\n",
    "def trap(ff, a, b, N):\n",
    "    m = (b-a)/N\n",
    "    s = 0\n",
    "    h = np.linspace(a,  b, num = N+1, endpoint = True )\n",
    "    for i in range(len(h)-1):\n",
    "        s += m*0.5*(ff(h[i])+ff(h[i+1]))\n",
    "    return s\n",
    "    \n",
    "def simp_lims_eq(X,Y):\n",
    "    integral = 0\n",
    "    h = X[1]-X[0]\n",
    "    integral = integral + Y[0]\n",
    "    for i in range(1,int(X.shape[0]/2)):\n",
    "        integral = integral+4*(Y[2*i-1])\n",
    "    for i in range(1,int(X.shape[0]/2 -1)):\n",
    "        integral = integral+2*(Y[2*i])\n",
    "    integral = integral + Y[X.shape[0]-1]\n",
    "    return integral*h/3\n",
    "def simpson(f,a,b,N):\n",
    "    X = np.arange(a,b,((b-a)/(N)))\n",
    "    Y = f(X)\n",
    "    return simp_lims_eq(X,Y)\n",
    "\n",
    "n=10\n",
    "a_f, a_g, a_k = 2/3, 2, np.pi/2\n",
    "y_f, y_g, y_k, e_f, e_g, e_k, e_fs, e_gs, e_ks= [], [], [], [], [], [], [], [], []\n",
    "for i in range(1, 11, 1):\n",
    "    N = int(2**i)\n",
    "    l = trap(f, -1, 1, N)\n",
    "    ll = simpson(f, -1, 1, N)\n",
    "    y_f.append(N)   \n",
    "    e_f.append((abs(a_f-l))/a_f)\n",
    "    e_fs.append((abs(a_f-ll))/a_f)\n",
    "    \n",
    "for i in range(1, n, 1):\n",
    "    N = int(2**i)\n",
    "    l = trap(g, 0, np.pi, N)\n",
    "    ll = simpson(g, 0, np.pi, N)\n",
    "    y_g.append(N)\n",
    "    e_g.append((abs(a_g-l))/a_g)\n",
    "    e_gs.append((abs(a_g-ll))/a_g)\n",
    "        \n",
    "for i in range(1, n, 1):\n",
    "    N = int(2**i)\n",
    "    l = trap(k, 1, 1000, N)\n",
    "    ll = simpson(g, 0, np.pi, N)\n",
    "    y_k.append(N)\n",
    "    e_k.append((abs(a_k-l))/a_k)\n",
    "    e_ks.append((abs(a_k-ll))/a_k)\n",
    "\n",
    "# print(trap(f,-1,1,10))\n",
    "# print(simpson(f,-1,1,10))\n",
    "# print('****')\n",
    "# print(trap(g,0,np.pi,10))\n",
    "# print(simpson(g,0,np.pi,10))\n",
    "# print('****')\n",
    "# print(trap(k,10**(-10),10**10,10))\n",
    "# print(simpson(k,10**(-10),10**10,10))\n",
    "# Trapezoidal\n",
    "plt.plot(y_f, e_f,color = \"red\")\n",
    "plt.xscale('log')\n",
    "plt.yscale('log')"
   ]
  },
  {
   "cell_type": "code",
   "execution_count": 6,
   "id": "22610d13",
   "metadata": {},
   "outputs": [
    {
     "data": {
      "image/png": "[encoded data removed]",
      "text/plain": [
       "<Figure size 432x288 with 1 Axes>"
      ]
     },
     "metadata": {
      "needs_background": "light"
     },
     "output_type": "display_data"
    }
   ],
   "source": [
    "# Trapezoidal\n",
    "\n",
    "plt.plot(y_g, e_g,color = \"green\")\n",
    "plt.xscale('log')\n",
    "plt.yscale('log')"
   ]
  },
  {
   "cell_type": "code",
   "execution_count": 7,
   "id": "55169a1b",
   "metadata": {},
   "outputs": [
    {
     "data": {
      "image/png": "[encoded data removed]",
      "text/plain": [
       "<Figure size 432x288 with 1 Axes>"
      ]
     },
     "metadata": {
      "needs_background": "light"
     },
     "output_type": "display_data"
    }
   ],
   "source": [
    "# Trapezoidal\n",
    "\n",
    "plt.plot(y_k, e_k,color = \"blue\")\n",
    "plt.xscale('log')\n",
    "plt.yscale('log')"
   ]
  },
  {
   "cell_type": "code",
   "execution_count": 8,
   "id": "e4d7a70d",
   "metadata": {},
   "outputs": [
    {
     "data": {
      "image/png": "[encoded data removed]",
      "text/plain": [
       "<Figure size 432x288 with 1 Axes>"
      ]
     },
     "metadata": {
      "needs_background": "light"
     },
     "output_type": "display_data"
    }
   ],
   "source": [
    "# Simpson\n",
    "\n",
    "plt.plot(y_f, e_fs,color = \"red\")\n",
    "plt.xscale('log')\n",
    "plt.yscale('log')"
   ]
  },
  {
   "cell_type": "code",
   "execution_count": 9,
   "id": "8f347c34",
   "metadata": {},
   "outputs": [
    {
     "data": {
      "image/png": "[encoded data removed]",
      "text/plain": [
       "<Figure size 432x288 with 1 Axes>"
      ]
     },
     "metadata": {
      "needs_background": "light"
     },
     "output_type": "display_data"
    }
   ],
   "source": [
    "# Simpson\n",
    "\n",
    "plt.plot(y_g, e_gs,color = \"green\")\n",
    "plt.xscale('log')\n",
    "plt.yscale('log')"
   ]
  },
  {
   "cell_type": "code",
   "execution_count": 10,
   "id": "d77e4f53",
   "metadata": {},
   "outputs": [
    {
     "data": {
      "image/png": "[encoded data removed]",
      "text/plain": [
       "<Figure size 432x288 with 1 Axes>"
      ]
     },
     "metadata": {
      "needs_background": "light"
     },
     "output_type": "display_data"
    }
   ],
   "source": [
    "# Simpson\n",
    "\n",
    "plt.plot(y_k, e_ks,color = \"blue\")\n",
    "plt.xscale('log')\n",
    "plt.yscale('log')"
   ]
  },
  {
   "cell_type": "markdown",
   "id": "dc07eed2",
   "metadata": {},
   "source": [
    "# Numerical Integration 4"
   ]
  },
  {
   "cell_type": "code",
   "execution_count": 13,
   "id": "4092df00",
   "metadata": {},
   "outputs": [
    {
     "name": "stdout",
     "output_type": "stream",
     "text": [
      "0.9936339879116785\n"
     ]
    }
   ],
   "source": [
    "import math\n",
    "# def L(x):\n",
    "#     V = 0.5*(4*((np.pi)**2)*(x**2))\n",
    "#     En = 2*((np.pi)**2)\n",
    "#     f = 1/(1-V/En)\n",
    "#     return math.sqrt(f)\n",
    "En = 2*((np.pi)**2)\n",
    "x = (math.sqrt(En/2))*(np.pi)\n",
    "# e = np.logspace(0.1, 0.000, num = 100, endpoint = True)\n",
    "e=[0.1, 0.01, 0.001, 0.0001, 0.00001, 0.000001, 0.000001]\n",
    "E, T = [], []\n",
    "# for i in e:\n",
    "#     a = -x+i\n",
    "#     b = x-i\n",
    "#     E.append(i)\n",
    "#     T.append((math.sqrt(2/En))*trap(L, a, b, 10))\n",
    "    \n",
    "def T(a,b,e,N,E): \n",
    "    def fun(x):\n",
    "        V=2*((np.pi)**2 )*(x**2)\n",
    "        z=V/E\n",
    "        w=1/(1-z)\n",
    "        return(w**(1/2))\n",
    "    \n",
    "    area=trap(fun, a+e, b-e, N)\n",
    "    con=(2/E)**(1/2)\n",
    "    return (con*area)\n",
    "\n",
    "print(Timeperiod_1(-2, 2, 0.0001, 10**6, 8*(np.pi)**2 ))"
   ]
  },
  {
   "cell_type": "code",
   "execution_count": 22,
   "id": "8f9e6ada",
   "metadata": {},
   "outputs": [
    {
     "data": {
      "text/plain": [
       "[0.9531965974371406,\n",
       " 0.953192480438424,\n",
       " 0.9531513224445043,\n",
       " 0.9527409369461242,\n",
       " 0.9487518452859237,\n",
       " 0.917066953005599]"
      ]
     },
     "execution_count": 22,
     "metadata": {},
     "output_type": "execute_result"
    }
   ],
   "source": [
    "e=[0.0000001,0.000001,0.00001,0.0001,0.001,0.01]\n",
    "TP=[]\n",
    "for i in e:\n",
    "    TP.append(T(-1.98,1.98,i,2**5, 8*(np.pi)**2))\n",
    "TP"
   ]
  },
  {
   "cell_type": "code",
   "execution_count": 23,
   "id": "1e018989",
   "metadata": {},
   "outputs": [
    {
     "data": {
      "image/png": "[encoded data removed]",
      "text/plain": [
       "<Figure size 432x288 with 1 Axes>"
      ]
     },
     "metadata": {
      "needs_background": "light"
     },
     "output_type": "display_data"
    }
   ],
   "source": [
    "plt.plot(e,TP, marker ='o')\n",
    "plt.xscale('log')\n",
    "plt.yscale('log')"
   ]
  },
  {
   "cell_type": "code",
   "execution_count": 24,
   "id": "60c6902e",
   "metadata": {},
   "outputs": [],
   "source": [
    "def f2(x):\n",
    "        k=np.exp(x**2/25) - 1\n",
    "        g=k*(25*2*(np.pi)**2)\n",
    "        return g\n",
    "    \n",
    "def T2(a,b,e,N,E):\n",
    "#     def fun2(x):\n",
    "#         y=m.exp(x**2/25) - 1\n",
    "#         z=y*(25*2*(m.pi)**2)\n",
    "#         return(z)\n",
    "#     TT=[]\n",
    "#     e=np.linspace(a, b, N)\n",
    "#     A=[]\n",
    "#     for i in x:\n",
    "#         A.append(f2(i))\n",
    "#     a=len(x)\n",
    "#     for i in range(a-1):\n",
    "#         integral.append(area(x[i], x[i+1], A[i], A[i+1]))\n",
    "        \n",
    "#     j=0\n",
    "#     for i in integral:\n",
    "#         j=j + i\n",
    "    j = trap(f2, a, b, N)\n",
    "    c=(2/E)**(1/2)\n",
    "    return c*j\n"
   ]
  },
  {
   "cell_type": "code",
   "execution_count": 25,
   "id": "6eca24fb",
   "metadata": {},
   "outputs": [
    {
     "data": {
      "text/plain": [
       "57185.32787695065"
      ]
     },
     "execution_count": 25,
     "metadata": {},
     "output_type": "execute_result"
    }
   ],
   "source": [
    "T2(-10, 10, 0.0001, 2**6,np.pi)"
   ]
  },
  {
   "cell_type": "code",
   "execution_count": 27,
   "id": "cbe60aea",
   "metadata": {},
   "outputs": [
    {
     "data": {
      "text/plain": [
       "2281.364510873431"
      ]
     },
     "execution_count": 27,
     "metadata": {},
     "output_type": "execute_result"
    }
   ],
   "source": [
    "T2(-10, 10, 0.0001, 2**6, 200*(np.pi)**2)"
   ]
  },
  {
   "cell_type": "code",
   "execution_count": 28,
   "id": "70bc3003",
   "metadata": {},
   "outputs": [
    {
     "data": {
      "text/plain": [
       "0.13101928543145538"
      ]
     },
     "execution_count": 28,
     "metadata": {},
     "output_type": "execute_result"
    }
   ],
   "source": [
    "T2(0,0.25, 0.001, 2**6, 1.2336)"
   ]
  },
  {
   "cell_type": "code",
   "execution_count": 29,
   "id": "616a165a",
   "metadata": {},
   "outputs": [
    {
     "data": {
      "text/plain": [
       "0.13101928543145533"
      ]
     },
     "execution_count": 29,
     "metadata": {},
     "output_type": "execute_result"
    }
   ],
   "source": [
    "T2(-0.25,0,0.001, 2**6, 1.2336 )"
   ]
  },
  {
   "cell_type": "code",
   "execution_count": 30,
   "id": "9286ce85",
   "metadata": {},
   "outputs": [
    {
     "data": {
      "text/plain": [
       "[<matplotlib.lines.Line2D at 0x1c8dd5938e0>]"
      ]
     },
     "execution_count": 30,
     "metadata": {},
     "output_type": "execute_result"
    },
    {
     "data": {
      "image/png": "[encoded data removed]",
      "text/plain": [
       "<Figure size 432x288 with 1 Axes>"
      ]
     },
     "metadata": {
      "needs_background": "light"
     },
     "output_type": "display_data"
    }
   ],
   "source": [
    "x=np.linspace(-10,10,100)\n",
    "A=[]\n",
    "for i in x:\n",
    "    A.append(f2(i))\n",
    "\n",
    "plt.plot(x,A)"
   ]
  },
  {
   "cell_type": "code",
   "execution_count": 31,
   "id": "0579917b",
   "metadata": {},
   "outputs": [
    {
     "data": {
      "text/plain": [
       "[<matplotlib.lines.Line2D at 0x1c8dd5ceca0>]"
      ]
     },
     "execution_count": 31,
     "metadata": {},
     "output_type": "execute_result"
    },
    {
     "data": {
      "image/png": "[encoded data removed]",
      "text/plain": [
       "<Figure size 432x288 with 1 Axes>"
      ]
     },
     "metadata": {
      "needs_background": "light"
     },
     "output_type": "display_data"
    }
   ],
   "source": [
    "x=np.linspace(-0.5,0.5,100)\n",
    "A=[]\n",
    "for i in x:\n",
    "    A.append(f2(i))\n",
    "\n",
    "plt.plot(x,A)"
   ]
  },
  {
   "cell_type": "code",
   "execution_count": 32,
   "id": "6a17b2a6",
   "metadata": {},
   "outputs": [
    {
     "data": {
      "text/plain": [
       "1.0509485282158002"
      ]
     },
     "execution_count": 32,
     "metadata": {},
     "output_type": "execute_result"
    }
   ],
   "source": [
    "T2(-0.5,0.5,0.001, 2**6, 4.934 )"
   ]
  },
  {
   "cell_type": "code",
   "execution_count": 39,
   "id": "dcf1c205",
   "metadata": {},
   "outputs": [
    {
     "data": {
      "text/plain": [
       "0.6718245425314862"
      ]
     },
     "execution_count": 39,
     "metadata": {},
     "output_type": "execute_result"
    }
   ],
   "source": [
    "T2(-0.4, 0.4, 0.0001, 2**6,((0.4*(np.pi))**2)*2)"
   ]
  },
  {
   "cell_type": "code",
   "execution_count": 40,
   "id": "fffc3237",
   "metadata": {},
   "outputs": [
    {
     "data": {
      "text/plain": [
       "0.7766098006842417"
      ]
     },
     "execution_count": 40,
     "metadata": {},
     "output_type": "execute_result"
    }
   ],
   "source": [
    "T2(-0.43, 0.43, 0.0001, 2**6,((0.43*(np.pi))**2)*2)"
   ]
  },
  {
   "cell_type": "code",
   "execution_count": 41,
   "id": "17aca934",
   "metadata": {},
   "outputs": [
    {
     "data": {
      "text/plain": [
       "0.8507127397682578"
      ]
     },
     "execution_count": 41,
     "metadata": {},
     "output_type": "execute_result"
    }
   ],
   "source": [
    "T2(-0.45, 0.45, 0.0001, 2**6,((0.45*(np.pi))**2)*2)"
   ]
  },
  {
   "cell_type": "code",
   "execution_count": 42,
   "id": "b9205c7c",
   "metadata": {},
   "outputs": [
    {
     "data": {
      "text/plain": [
       "0.8890396305990287"
      ]
     },
     "execution_count": 42,
     "metadata": {},
     "output_type": "execute_result"
    }
   ],
   "source": [
    "T2(-0.46, 0.46, 0.0001, 2**6,((0.46*(np.pi))**2)*2)"
   ]
  },
  {
   "cell_type": "code",
   "execution_count": 43,
   "id": "a96249d2",
   "metadata": {},
   "outputs": [
    {
     "data": {
      "text/plain": [
       "0.9677714296205955"
      ]
     },
     "execution_count": 43,
     "metadata": {},
     "output_type": "execute_result"
    }
   ],
   "source": [
    "T2(-0.48, 0.48, 0.0001, 10**6,((0.48*(np.pi))**2)*2)"
   ]
  },
  {
   "cell_type": "code",
   "execution_count": 44,
   "id": "344196f4",
   "metadata": {},
   "outputs": [
    {
     "data": {
      "text/plain": [
       "0.9677714296205955"
      ]
     },
     "execution_count": 44,
     "metadata": {},
     "output_type": "execute_result"
    }
   ],
   "source": [
    "T2(-0.48, 0.48, 0.0001, 10**6,((0.48*(np.pi))**2)*2)"
   ]
  }
 ],
 "metadata": {
  "kernelspec": {
   "display_name": "Python 3 (ipykernel)",
   "language": "python",
   "name": "python3"
  },
  "language_info": {
   "codemirror_mode": {
    "name": "ipython",
    "version": 3
   },
   "file_extension": ".py",
   "mimetype": "text/x-python",
   "name": "python",
   "nbconvert_exporter": "python",
   "pygments_lexer": "ipython3",
   "version": "3.9.12"
  }
 },
 "nbformat": 4,
 "nbformat_minor": 5
}
