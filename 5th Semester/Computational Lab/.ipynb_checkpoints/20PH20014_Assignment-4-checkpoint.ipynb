{
 "cells": [
  {
   "cell_type": "code",
   "execution_count": 56,
   "id": "3f3dd804",
   "metadata": {},
   "outputs": [],
   "source": [
    "import numpy as np\n",
    "import matplotlib.pyplot as plt\n",
    "import random"
   ]
  },
  {
   "cell_type": "code",
   "execution_count": 57,
   "id": "91ac4d86",
   "metadata": {},
   "outputs": [],
   "source": [
    "A = np.array([[-6,2,1,2,1],[3,8,-4,1,0],[-1,1,4,10,1],[3,-4,1,9,2],[2,0,1,3,10]])\n",
    "b = np.array([3,4,-2,12,1])"
   ]
  },
  {
   "cell_type": "code",
   "execution_count": 58,
   "id": "ec6ae8a9",
   "metadata": {},
   "outputs": [],
   "source": [
    "def diagonal_dominance_check(A):\n",
    "    for i in range (A.shape[0]):\n",
    "        s = 0\n",
    "        for j in range(A.shape[1]):\n",
    "            s = s + abs(A[i][j])\n",
    "        if s > abs(A[i][i]):\n",
    "            print(\"Not strictly diagonally dominant at row \", i)\n",
    "            break\n",
    "        else:\n",
    "            print(\"Matrix is diagonally dominant\")\n",
    "\n",
    "def inverse(A):\n",
    "    Lx = np.linalg.inv(A) \n",
    "    return Lx\n",
    "\n",
    "# def inv(L):\n",
    "#     for i in range(L.shape[0]):\n",
    "#         for j in range(L.shape[1]):\n",
    "#             if i<j:\n",
    "#                 Lx[i][j]=0\n",
    "#             elif i==j:\n",
    "#                 Lx[i][j]=1/(L[i][j])\n",
    "#             elif i>j:\n",
    "#                 for k in range(j, i, 1):\n",
    "#                     Lx[i][j] = Lx[i][j] + (np.matmul(L[i][k], L[k][j])\n",
    "#                 Lx[i][j] = (-1/L[i][i])*Lx[i][j])\n",
    "\n",
    "def lower_diagonal(A):\n",
    "    L = np.zeros(A.shape)\n",
    "    for i in range(A.shape[0]):\n",
    "        for j in range (i+1):\n",
    "            L[i][j]=A[i][j]\n",
    "    return L\n",
    "def strictlyUpperDiagonal(A):\n",
    "    U = np.zeros(A.shape)\n",
    "    for i in range(A.shape[0]):\n",
    "        for j in range (i):\n",
    "            U[A.shape[0]-1-i][A.shape[0]-1-j]=A[A.shape[0]-1-i][A.shape[0]-1-j]\n",
    "    return U\n",
    "\n",
    "\n",
    "def Gauss_siedel(A,b,x,error):\n",
    "    L = lower_diagonal(A)\n",
    "    U = strictlyUpperDiagonal(A)\n",
    "    for i in range(100):\n",
    "        print(\"Iteration {0}: {1}\".format(i, x))\n",
    "        if (np.sum(np.absolute(np.matmul(A,x)-b))/A.shape[0]<error):\n",
    "            return x\n",
    "        else:\n",
    "            x = np.matmul(np.linalg.inv(L),(b-np.matmul(U,x)))"
   ]
  },
  {
   "cell_type": "code",
   "execution_count": 65,
   "id": "a7e16574",
   "metadata": {},
   "outputs": [
    {
     "name": "stdout",
     "output_type": "stream",
     "text": [
      "Iteration = 1: -0.5, 0.6875, -0.796875, 1.8940972222222223, -0.2885416666666667\n",
      "Iteration = 2: 0.17962962962962967, -0.20256076388888888, -5.067560040509259, 1.810612381044239, 0.027646363811728313\n",
      "Iteration = 3: -0.8039684070644718, -1.9586184152359827, -4.744780041520652, 1.2518798749051865, 0.3597077230934036\n",
      "Iteration = 4: -1.4664248998481402, -1.478965667680422, -3.7164914260782465, 1.4978320009682413, 0.3155845222869803\n",
      "Iteration = 5: -1.0605290395359377, -1.1477763233341767, -4.301664312042789, 1.584553010304437, 0.26690633602013536\n",
      "Iteration = 6: -1.0268674336803556, -1.4638259946793157, -4.418869469516386, 1.4567061244222133, 0.3102485963610458\n",
      "Iteration = 7: -1.1871434356115909, -1.446344211956623, -4.154527266059537, 1.4788981702606363, 0.30921196265008105\n",
      "Iteration = 8: -1.1300345644669048, -1.3383629426372587, -4.222466321771523, 1.5156327021470046, 0.2935637344264319\n",
      "Iteration = 9: -1.0957271780542668, -1.389789556883787, -4.288957094266739, 1.4922058813379477, 0.300379380636143\n",
      "Iteration = 10: -1.1306241774537125, -1.407020215755471, -4.236510538928465, 1.4888381607772705, 0.3031244411504078\n",
      "Iteration = 11: -1.1282917012890763, -1.3812506515779879, -4.234636774658551, 1.4986955988792234, 0.2995133380599033\n",
      "Iteration = 12: -1.1167055903326961, -1.3858907408144172, -4.254321044092604, 1.4957609084125798, 0.3000449499520257\n"
     ]
    }
   ],
   "source": [
    "#implementing the formula for each row \n",
    "\n",
    "def f1(v,w,x,y,z):\n",
    "    r= 3-2*w-x-2*y-z\n",
    "    return(r/-6)\n",
    "\n",
    "def f2(v,w,x,y,z):\n",
    "    r= 4 - 3*v +4*x -1*y\n",
    "    return(r/8)\n",
    "\n",
    "def f3(v,w,x,y,z):\n",
    "    r= -2 +v -w -10*y -z\n",
    "    return(r/4)\n",
    "\n",
    "def f4(v,w,x,y,z):\n",
    "    r= 12 -3*v +4*w -x -2*z\n",
    "    return(r/9)\n",
    "\n",
    "def f5(v,w,x,y,z):\n",
    "    r= 1-2*v -x -3*y\n",
    "    return(r/10)\n",
    "\n",
    "v_0=0\n",
    "w_0=0\n",
    "x_0=0\n",
    "y_0=0\n",
    "z_0=0\n",
    "\n",
    "e=0.001\n",
    "k= True\n",
    "\n",
    "n=1\n",
    "\n",
    "while k:\n",
    "    v_1=f1(v_0,w_0,x_0,y_0,z_0)\n",
    "    w_1=f2(v_1,w_0,x_0,y_0,z_0)\n",
    "    x_1=f3(v_1,w_1,x_0,y_0,z_0)\n",
    "    y_1=f4(v_1,w_1,x_1,y_0,z_0)\n",
    "    z_1=f5(v_1,w_1,x_1,y_1,z_0)\n",
    "    \n",
    "    e1=abs(v_1 - v_0)\n",
    "    e2=abs(w_1 - w_0)\n",
    "    e3=abs(x_1 - x_0)\n",
    "    e4=abs(y_1 - y_0)\n",
    "    e5=abs(z_1 - z_0)\n",
    "    \n",
    "    v_0=v_1\n",
    "    w_0=w_1\n",
    "    x_0=x_1\n",
    "    y_0=y_1\n",
    "    z_0=z_1\n",
    "    n=n+1\n",
    "    print(\"Iteration = {0}: {1}, {2}, {3}, {4}, {5}\".format(n-1, v_1, w_1, x_1, y_1, z_1 ))\n",
    "    k= e1>e and e2>e and e3>e and e4>e and e5>e  "
   ]
  },
  {
   "cell_type": "code",
   "execution_count": 59,
   "id": "ceb0fc23",
   "metadata": {},
   "outputs": [
    {
     "name": "stdout",
     "output_type": "stream",
     "text": [
      "Not strictly diagonally dominant at row  0\n",
      "Iteration 0: [0 0 0 0 0]\n",
      "Iteration 1: [-0.5         0.6875     -0.796875    1.89409722 -0.28854167]\n",
      "Iteration 2: [ 0.17962963 -0.20256076 -5.06756004  1.81061238  0.02764636]\n",
      "Iteration 3: [-0.80396841 -1.95861842 -4.74478004  1.25187987  0.35970772]\n",
      "Iteration 4: [-1.4664249  -1.47896567 -3.71649143  1.497832    0.31558452]\n",
      "Iteration 5: [-1.06052904 -1.14777632 -4.30166431  1.58455301  0.26690634]\n",
      "Iteration 6: [-1.02686743 -1.46382599 -4.41886947  1.45670612  0.3102486 ]\n",
      "Iteration 7: [-1.18714344 -1.44634421 -4.15452727  1.47889817  0.30921196]\n",
      "Iteration 8: [-1.13003456 -1.33836294 -4.22246632  1.5156327   0.29356373]\n",
      "Iteration 9: [-1.09572718 -1.38978956 -4.28895709  1.49220588  0.30037938]\n",
      "Iteration 10: [-1.13062418 -1.40702022 -4.23651054  1.48883816  0.30312444]\n",
      "Iteration 11: [-1.1282917  -1.38125065 -4.23463677  1.4986956   0.29951334]\n",
      "Iteration 12: [-1.11670559 -1.38589074 -4.25432104  1.49576091  0.30004495]\n",
      "Iteration 13: [-1.12242263 -1.39322215 -4.24671363  1.49344478  0.30112245]\n",
      "Iteration 14: [-1.12419099 -1.38846579 -4.24282386  1.49547653  0.30047762]\n",
      "Iteration 15: [-1.12138746 -1.3878262  -4.24720104  1.49545593  0.30036082]\n",
      "Iteration 16: [-1.12193013 -1.38980871 -4.24676039  1.4947327   0.30064225]\n",
      "Iteration 17: [-1.12271169 -1.38920489 -4.24536901  1.49504444  0.30056591]\n",
      "Iteration 18: [-1.12218733 -1.38874481 -4.24611322  1.4951738   0.30049665]\n"
     ]
    },
    {
     "data": {
      "text/plain": [
       "array([-1.12218733, -1.38874481, -4.24611322,  1.4951738 ,  0.30049665])"
      ]
     },
     "execution_count": 59,
     "metadata": {},
     "output_type": "execute_result"
    }
   ],
   "source": [
    "x = np.zeros_like(b)\n",
    "e = 0.001\n",
    "diagonal_dominance_check(A)\n",
    "Gauss_siedel(A, b, x, e)"
   ]
  },
  {
   "cell_type": "code",
   "execution_count": 60,
   "id": "dc3ed26f",
   "metadata": {},
   "outputs": [
    {
     "name": "stdout",
     "output_type": "stream",
     "text": [
      "Not strictly diagonally dominant at row  0\n",
      "Iteration 0: [1. 1.]\n",
      "Iteration 1: [ 0.5        -0.86363636]\n",
      "Iteration 2: [ 0.84943182 -0.64127066]\n",
      "Iteration 3: [ 0.80773825 -0.66780293]\n",
      "Iteration 4: [ 0.81271305 -0.66463715]\n",
      "Iteration 5: [ 0.81211947 -0.66501489]\n"
     ]
    },
    {
     "data": {
      "text/plain": [
       "array([ 0.81211947, -0.66501489])"
      ]
     },
     "execution_count": 60,
     "metadata": {},
     "output_type": "execute_result"
    }
   ],
   "source": [
    "# Testing\n",
    "A= np.array([[16, 3], [7, -11]])\n",
    "b = np.array([11, 13])\n",
    "x = np.array([1.,1.])\n",
    "\n",
    "# x = np.zeros_like(b)\n",
    "e = 0.001\n",
    "diagonal_dominance_check(A)\n",
    "Gauss_siedel(A, b, x, e)"
   ]
  },
  {
   "cell_type": "code",
   "execution_count": 22,
   "id": "c129e132",
   "metadata": {},
   "outputs": [
    {
     "name": "stdout",
     "output_type": "stream",
     "text": [
      "Not strictly diagonally dominant at row  0\n",
      "[[ 0.  2.  1.  2.  1.]\n",
      " [ 0.  0. -4.  1.  0.]\n",
      " [ 0.  0.  0. 10.  1.]\n",
      " [ 0.  0.  0.  0.  2.]\n",
      " [ 0.  0.  0.  0.  0.]]\n",
      "[[-6.  0.  0.  0.  0.]\n",
      " [ 3.  8.  0.  0.  0.]\n",
      " [-1.  1.  4.  0.  0.]\n",
      " [ 3. -4.  1.  9.  0.]\n",
      " [ 2.  0.  1.  3. 10.]]\n",
      "[[-0.16666667 -0.         -0.         -0.         -0.        ]\n",
      " [ 0.0625      0.125       0.          0.          0.        ]\n",
      " [-0.05729167 -0.03125     0.25        0.          0.        ]\n",
      " [ 0.08969907  0.05902778 -0.02777778  0.11111111  0.        ]\n",
      " [ 0.01215278 -0.01458333 -0.01666667 -0.03333333  0.1       ]]\n"
     ]
    }
   ],
   "source": [
    "# U = strictly_upperdiagonal(A)\n",
    "# print(U)\n",
    "# L = lowerdiagonal(A)\n",
    "# print(L)\n",
    "# Lx = inverse(L)\n",
    "# print(Lx)"
   ]
  },
  {
   "cell_type": "code",
   "execution_count": 41,
   "id": "6f516c52",
   "metadata": {},
   "outputs": [
    {
     "name": "stdout",
     "output_type": "stream",
     "text": [
      "[-0.5         0.6875     -0.796875    1.89409722 -0.28854167]\n"
     ]
    }
   ],
   "source": [
    "# Lb = np.matmul(Lx, b)\n",
    "# print(Lb)"
   ]
  },
  {
   "cell_type": "markdown",
   "id": "5841f932",
   "metadata": {},
   "source": [
    "# Linear Interpolation - 1"
   ]
  },
  {
   "cell_type": "code",
   "execution_count": 23,
   "id": "620b6b85",
   "metadata": {},
   "outputs": [
    {
     "data": {
      "text/plain": [
       "[<matplotlib.lines.Line2D at 0x21a67750670>]"
      ]
     },
     "execution_count": 23,
     "metadata": {},
     "output_type": "execute_result"
    },
    {
     "data": {
      "image/png": "[encoded data removed]",
      "text/plain": [
       "<Figure size 432x288 with 1 Axes>"
      ]
     },
     "metadata": {
      "needs_background": "light"
     },
     "output_type": "display_data"
    }
   ],
   "source": [
    "x=[1,2.1,5.0]\n",
    "y=[8.0,20.6,13.7]\n",
    "plt.plot(x,y,marker=\"x\")"
   ]
  },
  {
   "cell_type": "code",
   "execution_count": 25,
   "id": "f4bdee37",
   "metadata": {},
   "outputs": [
    {
     "data": {
      "text/plain": [
       "19.454545454545453"
      ]
     },
     "execution_count": 25,
     "metadata": {},
     "output_type": "execute_result"
    }
   ],
   "source": [
    "def slope(x1,x2,y1,y2):\n",
    "    return((y2-y1)/(x2-x1))\n",
    "\n",
    "def r(x,y,m):\n",
    "    return(y + x*m)\n",
    "\n",
    "def lin(x):\n",
    "    if(x<=2.1):\n",
    "        m=slope(1,2.1,8.0,20.6)\n",
    "        y=r(x-1,8,m)    \n",
    "    elif(x>2.1):\n",
    "        m=slope(2.1,5.0,20.6,13.7)\n",
    "        y=r(x-2.1,20.6,m)\n",
    "    return y\n",
    "\n",
    "x = 2\n",
    "lin(x)"
   ]
  },
  {
   "cell_type": "markdown",
   "id": "169ca498",
   "metadata": {},
   "source": [
    "# Linear Interpolation - 2"
   ]
  },
  {
   "cell_type": "code",
   "execution_count": 33,
   "id": "a98748c2",
   "metadata": {},
   "outputs": [
    {
     "data": {
      "text/plain": [
       "[<matplotlib.lines.Line2D at 0x21a68aa5040>]"
      ]
     },
     "execution_count": 33,
     "metadata": {},
     "output_type": "execute_result"
    },
    {
     "data": {
      "image/png": "[encoded data removed]",
      "text/plain": [
       "<Figure size 432x288 with 1 Axes>"
      ]
     },
     "metadata": {
      "needs_background": "light"
     },
     "output_type": "display_data"
    }
   ],
   "source": [
    "file=np.loadtxt(r\"C:\\Users\\barbi\\Downloads\\Academics\\5th Semester\\Computational Lab\\points.txt\") \n",
    "\n",
    "X, Y=[], []\n",
    "for i in range(len(file)):\n",
    "    Z=file[i]\n",
    "    X.append(Z[0])   \n",
    "    Y.append(Z[1])   \n",
    "# print(X) \n",
    "# print(Y)\n",
    "plt.plot(X,Y)"
   ]
  },
  {
   "cell_type": "code",
   "execution_count": 44,
   "id": "3799eba8",
   "metadata": {},
   "outputs": [
    {
     "data": {
      "text/plain": [
       "2.06"
      ]
     },
     "execution_count": 44,
     "metadata": {},
     "output_type": "execute_result"
    }
   ],
   "source": [
    "# linear interpolation between two successive points\n",
    "def interpolate(x):\n",
    "    for i in range(len(file)-1):\n",
    "        if(x<=X[i+1] and x>=X[i]):\n",
    "            m=slope(X[i],X[i+1],Y[i],Y[i+1])\n",
    "            y=r(x-X[i],Y[i],m)\n",
    "    return y\n",
    "interpolate(2.1)"
   ]
  }
 ],
 "metadata": {
  "kernelspec": {
   "display_name": "Python 3 (ipykernel)",
   "language": "python",
   "name": "python3"
  },
  "language_info": {
   "codemirror_mode": {
    "name": "ipython",
    "version": 3
   },
   "file_extension": ".py",
   "mimetype": "text/x-python",
   "name": "python",
   "nbconvert_exporter": "python",
   "pygments_lexer": "ipython3",
   "version": "3.9.12"
  }
 },
 "nbformat": 4,
 "nbformat_minor": 5
}
