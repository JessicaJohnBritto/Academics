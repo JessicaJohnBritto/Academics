{
 "cells": [
  {
   "cell_type": "code",
   "execution_count": 1,
   "id": "ea77f227",
   "metadata": {},
   "outputs": [],
   "source": [
    "import numpy as np\n",
    "import matplotlib.pyplot as plt"
   ]
  },
  {
   "cell_type": "markdown",
   "id": "87209294",
   "metadata": {},
   "source": [
    "# Question 2"
   ]
  },
  {
   "cell_type": "markdown",
   "id": "ee0b53b0",
   "metadata": {},
   "source": [
    "*Newton-Raphson for finding reciprocal of a number: The reciprocal of a \n",
    "real number a is defined as a zero of the function: 𝑓(𝑥) = 1\n",
    "𝑥\n",
    "⁄ − 𝑎. \n",
    "The function converges for an initial estimate in the range 0 <x0 < 2/a."
   ]
  },
  {
   "cell_type": "markdown",
   "id": "81a97501",
   "metadata": {},
   "source": [
    "a) Write a matlab code that will be able to find the reciprocal of any real number \n",
    "using Newton-Raphson method. Do not set an error limit. Rather let the code \n",
    "run for a fixed number of 50 iterations"
   ]
  },
  {
   "cell_type": "code",
   "execution_count": 5,
   "id": "da3fe8d7",
   "metadata": {},
   "outputs": [],
   "source": [
    "def function(x,a):\n",
    "    y=(1/x)-a\n",
    "    return(y)"
   ]
  },
  {
   "cell_type": "code",
   "execution_count": 6,
   "id": "9f69619f",
   "metadata": {},
   "outputs": [],
   "source": [
    "def derivative_of_given_function(x):\n",
    "    z=1/(x*x)*(-1)\n",
    "    return(z)"
   ]
  },
  {
   "cell_type": "code",
   "execution_count": 11,
   "id": "952b0b25",
   "metadata": {},
   "outputs": [],
   "source": [
    "def root(x,a):\n",
    "    error = []\n",
    "    p= function(x,a)/derivative_of_given_function(x)\n",
    "    for j in range(1,51):\n",
    "        p= function(x,a)/derivative_of_given_function(x)\n",
    "        x=x-p\n",
    "        error.append(1/a - x)\n",
    "        \n",
    "    print(\"The root is %f\" %x)\n",
    "    #print(\"The value of j is %d\"%j)\n",
    "    return(x, error)"
   ]
  },
  {
   "cell_type": "code",
   "execution_count": 12,
   "id": "ab717d25",
   "metadata": {},
   "outputs": [
    {
     "name": "stdout",
     "output_type": "stream",
     "text": [
      "The value for a can be any real number. Please enter value for a :  31\n",
      "0.03225806451612903\n"
     ]
    }
   ],
   "source": [
    "a=input(\"The value for a can be any real number. Please enter value for a :  \")\n",
    "a=float(a)\n",
    "q=1/a\n",
    "print(q)"
   ]
  },
  {
   "cell_type": "markdown",
   "id": "759d8ef7",
   "metadata": {},
   "source": [
    "Checking for the Guesses\n",
    "\n",
    "(g is the Guess)"
   ]
  },
  {
   "cell_type": "code",
   "execution_count": 13,
   "id": "05699496",
   "metadata": {},
   "outputs": [
    {
     "name": "stdout",
     "output_type": "stream",
     "text": [
      "Enter the value for guess :  0.05\n",
      "-11.0\n"
     ]
    }
   ],
   "source": [
    "g=input(\"Enter the value for guess :  \")\n",
    "g=float(g)\n",
    "#g=0.05\n",
    "r=function(g,a)\n",
    "print(r)"
   ]
  },
  {
   "cell_type": "code",
   "execution_count": 14,
   "id": "5d49cc91",
   "metadata": {},
   "outputs": [
    {
     "name": "stdout",
     "output_type": "stream",
     "text": [
      "The root is 0.032258\n"
     ]
    }
   ],
   "source": [
    "#For suitable guess find out the root\n",
    "root, error = root(g,a)"
   ]
  },
  {
   "cell_type": "markdown",
   "id": "5c85821c",
   "metadata": {},
   "source": [
    "b) Plot the error propagation (by comparing the outcome of the code and 1/a)\n",
    "and plot is as a function of the iteration"
   ]
  },
  {
   "cell_type": "code",
   "execution_count": 15,
   "id": "9571b4ba",
   "metadata": {},
   "outputs": [
    {
     "data": {
      "text/plain": [
       "[<matplotlib.lines.Line2D at 0x1a3e314e6d0>]"
      ]
     },
     "execution_count": 15,
     "metadata": {},
     "output_type": "execute_result"
    },
    {
     "data": {
      "image/png": "[encoded data removed]",
      "text/plain": [
       "<Figure size 432x288 with 1 Axes>"
      ]
     },
     "metadata": {
      "needs_background": "light"
     },
     "output_type": "display_data"
    }
   ],
   "source": [
    "X = np.arange(50)\n",
    "plt.plot(error, X)"
   ]
  },
  {
   "cell_type": "code",
   "execution_count": 16,
   "id": "f51c011b",
   "metadata": {},
   "outputs": [
    {
     "data": {
      "image/png": "[encoded data removed]",
      "text/plain": [
       "<Figure size 432x288 with 1 Axes>"
      ]
     },
     "metadata": {
      "needs_background": "light"
     },
     "output_type": "display_data"
    }
   ],
   "source": [
    "X = np.arange(50)\n",
    "plt.plot(error, X)\n",
    "plt.xscale('log')\n",
    "plt.yscale('log')"
   ]
  },
  {
   "cell_type": "markdown",
   "id": "808e5001",
   "metadata": {},
   "source": [
    "# Question-03"
   ]
  },
  {
   "cell_type": "markdown",
   "id": "bfd2edfc",
   "metadata": {},
   "source": [
    "Diagonal dominance of matrix: Consider the square matrices:\n",
    "\n",
    "\n",
    "A =[-6 2 1 2 1;\n",
    " 3 8 -4 1 0;\n",
    " -1 1 4 10 1;\n",
    " 3 -4 1 9 2;\n",
    " 2 0 1 3 10]\n",
    " \n",
    " \n",
    "B=[18 3 6 -3;\n",
    " 9 13 -5 2;\n",
    " -3 -2 4 9;\n",
    " 6 0 11 3]\n",
    " \n",
    " \n",
    "Write a code to see is the matrices A and B are diagonally dominant. In case if \n",
    "they are not, make the code display a message like “Not strictly diagonally \n",
    "dominant on row (row number)\""
   ]
  },
  {
   "cell_type": "code",
   "execution_count": 22,
   "id": "6ea98a2b",
   "metadata": {},
   "outputs": [],
   "source": [
    "A=np.array([[-6,2,1,2,1],\n",
    "                [3,8,-4,1,0],\n",
    "                [-1,1,4,10,1],\n",
    "                [3,-4,1,9,2],\n",
    "                [2,0,1,3,10]])"
   ]
  },
  {
   "cell_type": "code",
   "execution_count": 23,
   "id": "e8ed1fcc",
   "metadata": {},
   "outputs": [],
   "source": [
    "B=np.array([[18,3,6,-3],\n",
    "                [9,13,-5,2],\n",
    "                [-3,-2,4,9],\n",
    "                [6,0,11,3]])"
   ]
  },
  {
   "cell_type": "code",
   "execution_count": 24,
   "id": "46c26386",
   "metadata": {},
   "outputs": [],
   "source": [
    "def Check_Matrix(M, n) :\n",
    "#here M is the Matrix, and n=total number of columns in matrix M\n",
    "\n",
    "    for i in range(0, n) :\n",
    "        sum=0\n",
    "        for j in range(0, n) :\n",
    "             if(j!=i):\n",
    "                sum = sum + abs(M[i][j])\n",
    "\n",
    "\n",
    "        if (abs(M[i][i]) < sum) :\n",
    "             return 0\n",
    "\n",
    "    return 1\n"
   ]
  },
  {
   "cell_type": "markdown",
   "id": "e525aff4",
   "metadata": {},
   "source": [
    "Checking for A matrix"
   ]
  },
  {
   "cell_type": "code",
   "execution_count": 25,
   "id": "7adc772a",
   "metadata": {},
   "outputs": [
    {
     "name": "stdout",
     "output_type": "stream",
     "text": [
      "Not strictly diagonally dominant on row (row number)\n"
     ]
    }
   ],
   "source": [
    "if((Check_Matrix(A,5))==1):\n",
    "    print (\"YES\")\n",
    "else :\n",
    "    print (\"Not strictly diagonally dominant on row (row number)\")"
   ]
  },
  {
   "cell_type": "markdown",
   "id": "c95b5939",
   "metadata": {},
   "source": [
    "Checking for B Matrix"
   ]
  },
  {
   "cell_type": "code",
   "execution_count": 26,
   "id": "52f4d198",
   "metadata": {},
   "outputs": [
    {
     "name": "stdout",
     "output_type": "stream",
     "text": [
      "Not strictly diagonally dominant on row (row number)\n"
     ]
    }
   ],
   "source": [
    "if((Check_Matrix(B,4))==1):\n",
    "    print (\"YES\")\n",
    "else :\n",
    "    print (\"Not strictly diagonally dominant on row (row number)\")\n"
   ]
  },
  {
   "cell_type": "code",
   "execution_count": null,
   "id": "a48c41a3",
   "metadata": {},
   "outputs": [],
   "source": []
  }
 ],
 "metadata": {
  "kernelspec": {
   "display_name": "Python 3 (ipykernel)",
   "language": "python",
   "name": "python3"
  },
  "language_info": {
   "codemirror_mode": {
    "name": "ipython",
    "version": 3
   },
   "file_extension": ".py",
   "mimetype": "text/x-python",
   "name": "python",
   "nbconvert_exporter": "python",
   "pygments_lexer": "ipython3",
   "version": "3.9.12"
  }
 },
 "nbformat": 4,
 "nbformat_minor": 5
}
