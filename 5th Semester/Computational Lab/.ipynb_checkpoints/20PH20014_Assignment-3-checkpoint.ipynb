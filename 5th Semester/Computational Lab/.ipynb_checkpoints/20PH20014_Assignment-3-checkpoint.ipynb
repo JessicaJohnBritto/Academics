{
 "cells": [
  {
   "cell_type": "code",
   "execution_count": 2,
   "id": "7667925b",
   "metadata": {},
   "outputs": [],
   "source": [
    "import numpy as np\n",
    "import matplotlib.pyplot as plt\n",
    "import random"
   ]
  },
  {
   "cell_type": "markdown",
   "id": "5bf13fdc",
   "metadata": {},
   "source": [
    "# Root finding 2"
   ]
  },
  {
   "cell_type": "code",
   "execution_count": 54,
   "id": "ad69d902",
   "metadata": {},
   "outputs": [],
   "source": [
    "def g(x):\n",
    "    return ((x**3)-(0.165*(x**2))+(3.993*(10**(-4))))"
   ]
  },
  {
   "cell_type": "code",
   "execution_count": 55,
   "id": "9dcc9d96",
   "metadata": {},
   "outputs": [],
   "source": [
    "def h(x):\n",
    "    return ((3*(x**2))-(2*0.165*(x**1)))"
   ]
  },
  {
   "cell_type": "code",
   "execution_count": 74,
   "id": "6fea13f6",
   "metadata": {},
   "outputs": [
    {
     "name": "stdout",
     "output_type": "stream",
     "text": [
      "0.06242222222222221\n"
     ]
    }
   ],
   "source": [
    "e=0.0001\n",
    "x=0.05\n",
    "i=0\n",
    "while abs(g(x))>e:\n",
    "    x=(x)-((g(x))/(h(x)))\n",
    "print(x)"
   ]
  },
  {
   "cell_type": "code",
   "execution_count": 57,
   "id": "7aba72ed",
   "metadata": {},
   "outputs": [],
   "source": [
    "# e=0.0001\n",
    "# x=0.11\n",
    "# i=0\n",
    "# while abs(g(x))>e:\n",
    "#     x=(x)-((g(x))/(h(x)))\n",
    "# print(x)\n",
    "\n",
    "# Not possible as 0.11 is a root of the given function and hence its derivation is a point of minima, therefore its\n",
    "# derivative is zero at this point."
   ]
  },
  {
   "cell_type": "code",
   "execution_count": 58,
   "id": "9235e3a9",
   "metadata": {},
   "outputs": [
    {
     "data": {
      "text/plain": [
       "[<matplotlib.lines.Line2D at 0x1e9c9b6ea00>]"
      ]
     },
     "execution_count": 58,
     "metadata": {},
     "output_type": "execute_result"
    },
    {
     "data": {
      "image/png": "[encoded data removed]",
      "text/plain": [
       "<Figure size 432x288 with 1 Axes>"
      ]
     },
     "metadata": {
      "needs_background": "light"
     },
     "output_type": "display_data"
    }
   ],
   "source": [
    "X=np.arange(-0.1,0.2,0.01)\n",
    "Y=g(X)\n",
    "plt.plot(X, Y)\n",
    "plt.plot(X,0*X)"
   ]
  },
  {
   "cell_type": "code",
   "execution_count": 60,
   "id": "989d4c58",
   "metadata": {},
   "outputs": [
    {
     "name": "stdout",
     "output_type": "stream",
     "text": [
      "[0.1, 0.01, 0.001, 0.0001, 1e-05, 1e-06, 1e-07, 1e-08, 1e-09, 1e-10, 1e-11, 1e-12, 1e-13, 1e-14]\n"
     ]
    },
    {
     "data": {
      "text/plain": [
       "[<matplotlib.lines.Line2D at 0x1e9c9c4d280>]"
      ]
     },
     "execution_count": 60,
     "metadata": {},
     "output_type": "execute_result"
    },
    {
     "data": {
      "image/png": "[encoded data removed]",
      "text/plain": [
       "<Figure size 432x288 with 1 Axes>"
      ]
     },
     "metadata": {
      "needs_background": "light"
     },
     "output_type": "display_data"
    }
   ],
   "source": [
    "e = []\n",
    "for j in range(1,15,1):\n",
    "    e.append(10**(-j))\n",
    "print(e)\n",
    "N, E=[], []\n",
    "for k in e:\n",
    "    i=0\n",
    "    x=0.05\n",
    "    while(abs(g(x))>k):\n",
    "        x=x-(g(x)/h(x))\n",
    "        i=i+1\n",
    "    N.append(i)\n",
    "plt.plot(N, e)"
   ]
  },
  {
   "cell_type": "markdown",
   "id": "b40550b9",
   "metadata": {},
   "source": [
    "# Newton-Raphson for finding reciprocal of a number"
   ]
  },
  {
   "cell_type": "code",
   "execution_count": 81,
   "id": "8135edf2",
   "metadata": {},
   "outputs": [
    {
     "data": {
      "text/plain": [
       "[<matplotlib.lines.Line2D at 0x1e9cbaf1df0>]"
      ]
     },
     "execution_count": 81,
     "metadata": {},
     "output_type": "execute_result"
    },
    {
     "data": {
      "image/png": "[encoded data removed]",
      "text/plain": [
       "<Figure size 432x288 with 1 Axes>"
      ]
     },
     "metadata": {
      "needs_background": "light"
     },
     "output_type": "display_data"
    }
   ],
   "source": [
    "a=2\n",
    "x=0.5\n",
    "E, N=[], []\n",
    "for i in range(50):\n",
    "    x=(x)-((g(x))/(h(x)))\n",
    "    y=x\n",
    "    E.append(y-(1/a))\n",
    "    N.append(i)\n",
    "plt.plot(N,E) # Error vs number of iterations"
   ]
  },
  {
   "cell_type": "code",
   "execution_count": 77,
   "id": "9117e877",
   "metadata": {},
   "outputs": [],
   "source": [
    "# a=2\n",
    "# x=0.5\n",
    "# E, N=[], []\n",
    "# for i in range(50):\n",
    "#     x=(x)-((g(x))/(h(x)))\n",
    "#     y=x\n",
    "#     E.append(x)\n",
    "#     N.append(i)\n",
    "# plt.plot(N,E) # number of iterations vs value"
   ]
  },
  {
   "cell_type": "markdown",
   "id": "6887b25e",
   "metadata": {},
   "source": [
    "# Diagonal dominance of matrix"
   ]
  },
  {
   "cell_type": "code",
   "execution_count": 3,
   "id": "148c5c3f",
   "metadata": {},
   "outputs": [
    {
     "name": "stdout",
     "output_type": "stream",
     "text": [
      "[[-6  2  1  2  1]\n",
      " [ 3  8 -4  1  0]\n",
      " [-1  1  4 10  1]\n",
      " [ 3 -4  1  9  2]\n",
      " [ 2  0  1  3 10]]\n"
     ]
    }
   ],
   "source": [
    "A = np.array([[-6, 2, 1, 2, 1], [3, 8, -4,1,0], [-1, 1, 4, 10, 1], [3, -4, 1,9,2], [2,0,1,3,10]])\n",
    "print(A)"
   ]
  },
  {
   "cell_type": "code",
   "execution_count": 4,
   "id": "d8f54067",
   "metadata": {
    "scrolled": true
   },
   "outputs": [
    {
     "name": "stdout",
     "output_type": "stream",
     "text": [
      "[[18  3  6 -3]\n",
      " [ 9 13 -5  2]\n",
      " [-3 -2  4  9]\n",
      " [ 6  0 11  3]]\n"
     ]
    }
   ],
   "source": [
    "B = np.array([[18,3,6,-3],[9,13,-5,2],[-3,-2,4,9],[6,0,11,3]])\n",
    "print(B)"
   ]
  },
  {
   "cell_type": "code",
   "execution_count": 5,
   "id": "7f8efc83",
   "metadata": {},
   "outputs": [
    {
     "name": "stdout",
     "output_type": "stream",
     "text": [
      "For A\n",
      "Not strictly diagonally dominant on row 0\n",
      "Not strictly diagonally dominant on row 1\n",
      "Not strictly diagonally dominant on row 2\n",
      "Not strictly diagonally dominant on row 3\n",
      "\n",
      "\n",
      "For B\n",
      "Not strictly diagonally dominant on row 1\n",
      "Not strictly diagonally dominant on row 2\n",
      "Not strictly diagonally dominant on row 3\n"
     ]
    }
   ],
   "source": [
    "def DDM(A):\n",
    "    for i in range(A.shape[0]):\n",
    "        s=0\n",
    "        for j in range(A.shape[1]):\n",
    "            if (j!=i):\n",
    "                s = s+abs(A[i][j])\n",
    "    #     print(abs(A[i][i]))\n",
    "    #     print(s-abs(A[i][i]))\n",
    "        if (abs(A[i][i])) <= (s):\n",
    "            print(\"Not strictly diagonally dominant on row {}\".format(i))\n",
    "#             break\n",
    "print(\"For A\")\n",
    "DDM(A)\n",
    "print('\\n')\n",
    "print(\"For B\")\n",
    "DDM(B)"
   ]
  }
 ],
 "metadata": {
  "kernelspec": {
   "display_name": "Python 3 (ipykernel)",
   "language": "python",
   "name": "python3"
  },
  "language_info": {
   "codemirror_mode": {
    "name": "ipython",
    "version": 3
   },
   "file_extension": ".py",
   "mimetype": "text/x-python",
   "name": "python",
   "nbconvert_exporter": "python",
   "pygments_lexer": "ipython3",
   "version": "3.9.12"
  }
 },
 "nbformat": 4,
 "nbformat_minor": 5
}
